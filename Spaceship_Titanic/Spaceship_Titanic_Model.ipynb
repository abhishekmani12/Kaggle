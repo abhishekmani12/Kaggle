{
 "cells": [
  {
   "cell_type": "code",
   "execution_count": 1,
   "metadata": {
    "id": "mUREOCZr7zI_"
   },
   "outputs": [],
   "source": [
    "import pandas as pd\n",
    "\n",
    "import sklearn.model_selection\n",
    "\n",
    "#! pip install optuna\n",
    "#import optuna"
   ]
  },
  {
   "cell_type": "code",
   "execution_count": 3,
   "metadata": {
    "colab": {
     "base_uri": "https://localhost:8080/"
    },
    "id": "lOPOg6FDKUne",
    "outputId": "d5c497a9-fcb0-4d8a-84d1-fecccae69265"
   },
   "outputs": [
    {
     "name": "stdout",
     "output_type": "stream",
     "text": [
      "Looking in indexes: https://pypi.org/simple, https://us-python.pkg.dev/colab-wheels/public/simple/\n",
      "Requirement already satisfied: kaggle in /usr/local/lib/python3.7/dist-packages (1.5.12)\n",
      "Requirement already satisfied: certifi in /usr/local/lib/python3.7/dist-packages (from kaggle) (2022.6.15)\n",
      "Requirement already satisfied: urllib3 in /usr/local/lib/python3.7/dist-packages (from kaggle) (1.24.3)\n",
      "Requirement already satisfied: six>=1.10 in /usr/local/lib/python3.7/dist-packages (from kaggle) (1.15.0)\n",
      "Requirement already satisfied: python-dateutil in /usr/local/lib/python3.7/dist-packages (from kaggle) (2.8.2)\n",
      "Requirement already satisfied: tqdm in /usr/local/lib/python3.7/dist-packages (from kaggle) (4.64.0)\n",
      "Requirement already satisfied: python-slugify in /usr/local/lib/python3.7/dist-packages (from kaggle) (6.1.2)\n",
      "Requirement already satisfied: requests in /usr/local/lib/python3.7/dist-packages (from kaggle) (2.23.0)\n",
      "Requirement already satisfied: text-unidecode>=1.3 in /usr/local/lib/python3.7/dist-packages (from python-slugify->kaggle) (1.3)\n",
      "Requirement already satisfied: chardet<4,>=3.0.2 in /usr/local/lib/python3.7/dist-packages (from requests->kaggle) (3.0.4)\n",
      "Requirement already satisfied: idna<3,>=2.5 in /usr/local/lib/python3.7/dist-packages (from requests->kaggle) (2.10)\n",
      "mkdir: cannot create directory ‘/root/.kaggle’: File exists\n",
      "Warning: Your Kaggle API key is readable by other users on this system! To fix this, you can run 'chmod 600 /root/.kaggle/kaggle.json'\n",
      "spaceship-titanic.zip: Skipping, found more recently modified local copy (use --force to force download)\n"
     ]
    }
   ],
   "source": [
    "! pip install kaggle\n",
    "! mkdir ~/.kaggle\n",
    "! cp kaggle.json ~/.kaggle/\n",
    "\n",
    "! kaggle competitions download -c spaceship-titanic\n",
    "\n",
    "from zipfile import ZipFile as unzipper\n",
    "unzipped = unzipper('/content/spaceship-titanic.zip')\n",
    "unzipped.extractall()\n",
    "traindf=pd.read_csv('/content/train.csv')"
   ]
  },
  {
   "cell_type": "code",
   "execution_count": 6,
   "metadata": {
    "id": "OK8CCPmC8ycj"
   },
   "outputs": [],
   "source": [
    "cdf=pd.read_csv(\"/content/ProcessedData.csv\")"
   ]
  },
  {
   "cell_type": "code",
   "execution_count": 7,
   "metadata": {
    "colab": {
     "base_uri": "https://localhost:8080/"
    },
    "id": "lskeTxScMg6f",
    "outputId": "0bf6bbde-4127-4535-d348-748274955f55"
   },
   "outputs": [
    {
     "name": "stdout",
     "output_type": "stream",
     "text": [
      "<class 'pandas.core.frame.DataFrame'>\n",
      "RangeIndex: 12970 entries, 0 to 12969\n",
      "Data columns (total 20 columns):\n",
      " #   Column         Non-Null Count  Dtype  \n",
      "---  ------         --------------  -----  \n",
      " 0   Unnamed: 0     12970 non-null  int64  \n",
      " 1   HomePlanet     12970 non-null  object \n",
      " 2   CryoSleep      12970 non-null  int64  \n",
      " 3   Destination    12970 non-null  object \n",
      " 4   Age            12970 non-null  float64\n",
      " 5   VIP            12970 non-null  int64  \n",
      " 6   RoomService    12970 non-null  float64\n",
      " 7   FoodCourt      12970 non-null  float64\n",
      " 8   ShoppingMall   12970 non-null  float64\n",
      " 9   Spa            12970 non-null  float64\n",
      " 10  VRDeck         12970 non-null  float64\n",
      " 11  Name           12970 non-null  object \n",
      " 12  ind            12970 non-null  object \n",
      " 13  Group          12970 non-null  int64  \n",
      " 14  Deck           12970 non-null  object \n",
      " 15  Num            12970 non-null  int64  \n",
      " 16  Side           12970 non-null  object \n",
      " 17  Minor          12970 non-null  int64  \n",
      " 18  Total_Expense  12970 non-null  float64\n",
      " 19  Expenditure    12970 non-null  int64  \n",
      "dtypes: float64(7), int64(7), object(6)\n",
      "memory usage: 2.0+ MB\n"
     ]
    }
   ],
   "source": [
    "cdf.info()"
   ]
  },
  {
   "cell_type": "code",
   "execution_count": 8,
   "metadata": {
    "id": "69-e-Gj68yib"
   },
   "outputs": [],
   "source": [
    "cdf.drop(columns=['Unnamed: 0','Name'], axis=1, inplace=True)"
   ]
  },
  {
   "cell_type": "code",
   "execution_count": 9,
   "metadata": {
    "id": "zyid6b0h8ylC"
   },
   "outputs": [],
   "source": [
    "train, test = cdf[cdf[\"ind\"].eq(\"train\")], cdf[cdf[\"ind\"].eq(\"test\")]"
   ]
  },
  {
   "cell_type": "code",
   "execution_count": 10,
   "metadata": {
    "colab": {
     "base_uri": "https://localhost:8080/"
    },
    "id": "MWLgT-qFMzd8",
    "outputId": "a30cd862-04d2-42ea-b043-59c192403797"
   },
   "outputs": [
    {
     "name": "stderr",
     "output_type": "stream",
     "text": [
      "/usr/local/lib/python3.7/dist-packages/ipykernel_launcher.py:1: SettingWithCopyWarning: \n",
      "A value is trying to be set on a copy of a slice from a DataFrame.\n",
      "Try using .loc[row_indexer,col_indexer] = value instead\n",
      "\n",
      "See the caveats in the documentation: https://pandas.pydata.org/pandas-docs/stable/user_guide/indexing.html#returning-a-view-versus-a-copy\n",
      "  \"\"\"Entry point for launching an IPython kernel.\n"
     ]
    }
   ],
   "source": [
    "train[\"Transported\"]=traindf[\"Transported\"].astype(int)"
   ]
  },
  {
   "cell_type": "code",
   "execution_count": 11,
   "metadata": {
    "colab": {
     "base_uri": "https://localhost:8080/"
    },
    "id": "dfk1foKQBIuk",
    "outputId": "99e10365-20f6-499f-da97-bcf181bfad32"
   },
   "outputs": [
    {
     "name": "stdout",
     "output_type": "stream",
     "text": [
      "<class 'pandas.core.frame.DataFrame'>\n",
      "Int64Index: 8693 entries, 0 to 8692\n",
      "Data columns (total 19 columns):\n",
      " #   Column         Non-Null Count  Dtype  \n",
      "---  ------         --------------  -----  \n",
      " 0   HomePlanet     8693 non-null   object \n",
      " 1   CryoSleep      8693 non-null   int64  \n",
      " 2   Destination    8693 non-null   object \n",
      " 3   Age            8693 non-null   float64\n",
      " 4   VIP            8693 non-null   int64  \n",
      " 5   RoomService    8693 non-null   float64\n",
      " 6   FoodCourt      8693 non-null   float64\n",
      " 7   ShoppingMall   8693 non-null   float64\n",
      " 8   Spa            8693 non-null   float64\n",
      " 9   VRDeck         8693 non-null   float64\n",
      " 10  ind            8693 non-null   object \n",
      " 11  Group          8693 non-null   int64  \n",
      " 12  Deck           8693 non-null   object \n",
      " 13  Num            8693 non-null   int64  \n",
      " 14  Side           8693 non-null   object \n",
      " 15  Minor          8693 non-null   int64  \n",
      " 16  Total_Expense  8693 non-null   float64\n",
      " 17  Expenditure    8693 non-null   int64  \n",
      " 18  Transported    8693 non-null   int64  \n",
      "dtypes: float64(7), int64(7), object(5)\n",
      "memory usage: 1.3+ MB\n"
     ]
    }
   ],
   "source": [
    "train.info()"
   ]
  },
  {
   "cell_type": "code",
   "execution_count": 12,
   "metadata": {
    "colab": {
     "base_uri": "https://localhost:8080/"
    },
    "id": "OIB6jrt-CkBK",
    "outputId": "c602a639-7749-47f5-c363-c85b30cd6838"
   },
   "outputs": [
    {
     "name": "stderr",
     "output_type": "stream",
     "text": [
      "/usr/local/lib/python3.7/dist-packages/pandas/core/frame.py:4913: SettingWithCopyWarning: \n",
      "A value is trying to be set on a copy of a slice from a DataFrame\n",
      "\n",
      "See the caveats in the documentation: https://pandas.pydata.org/pandas-docs/stable/user_guide/indexing.html#returning-a-view-versus-a-copy\n",
      "  errors=errors,\n"
     ]
    }
   ],
   "source": [
    "train.drop([\"ind\"], axis=1, inplace=True)\n",
    "test.drop([\"ind\"], axis=1, inplace=True)"
   ]
  },
  {
   "cell_type": "markdown",
   "metadata": {
    "id": "4adt9kykJ3Dw"
   },
   "source": [
    "**Label Encoding:**"
   ]
  },
  {
   "cell_type": "code",
   "execution_count": 13,
   "metadata": {
    "id": "FUoR5K6FMW5z"
   },
   "outputs": [],
   "source": [
    "train=pd.get_dummies(train)\n",
    "test=pd.get_dummies(test)"
   ]
  },
  {
   "cell_type": "code",
   "execution_count": 49,
   "metadata": {
    "colab": {
     "base_uri": "https://localhost:8080/"
    },
    "id": "3FQ3-jFec91F",
    "outputId": "c7a326a9-95e6-424a-807f-8608d03855e2"
   },
   "outputs": [
    {
     "name": "stdout",
     "output_type": "stream",
     "text": [
      "<class 'pandas.core.frame.DataFrame'>\n",
      "Int64Index: 4277 entries, 8693 to 12969\n",
      "Data columns (total 29 columns):\n",
      " #   Column                     Non-Null Count  Dtype  \n",
      "---  ------                     --------------  -----  \n",
      " 0   CryoSleep                  4277 non-null   int64  \n",
      " 1   Age                        4277 non-null   float64\n",
      " 2   VIP                        4277 non-null   int64  \n",
      " 3   RoomService                4277 non-null   float64\n",
      " 4   FoodCourt                  4277 non-null   float64\n",
      " 5   ShoppingMall               4277 non-null   float64\n",
      " 6   Spa                        4277 non-null   float64\n",
      " 7   VRDeck                     4277 non-null   float64\n",
      " 8   Group                      4277 non-null   int64  \n",
      " 9   Num                        4277 non-null   int64  \n",
      " 10  Minor                      4277 non-null   int64  \n",
      " 11  Total_Expense              4277 non-null   float64\n",
      " 12  Expenditure                4277 non-null   int64  \n",
      " 13  HomePlanet_Earth           4277 non-null   uint8  \n",
      " 14  HomePlanet_Europa          4277 non-null   uint8  \n",
      " 15  HomePlanet_Mars            4277 non-null   uint8  \n",
      " 16  Destination_55 Cancri e    4277 non-null   uint8  \n",
      " 17  Destination_PSO J318.5-22  4277 non-null   uint8  \n",
      " 18  Destination_TRAPPIST-1e    4277 non-null   uint8  \n",
      " 19  Deck_A                     4277 non-null   uint8  \n",
      " 20  Deck_B                     4277 non-null   uint8  \n",
      " 21  Deck_C                     4277 non-null   uint8  \n",
      " 22  Deck_D                     4277 non-null   uint8  \n",
      " 23  Deck_E                     4277 non-null   uint8  \n",
      " 24  Deck_F                     4277 non-null   uint8  \n",
      " 25  Deck_G                     4277 non-null   uint8  \n",
      " 26  Deck_T                     4277 non-null   uint8  \n",
      " 27  Side_P                     4277 non-null   uint8  \n",
      " 28  Side_S                     4277 non-null   uint8  \n",
      "dtypes: float64(7), int64(6), uint8(16)\n",
      "memory usage: 534.6 KB\n"
     ]
    }
   ],
   "source": [
    "test.info()"
   ]
  },
  {
   "cell_type": "code",
   "execution_count": 14,
   "metadata": {
    "colab": {
     "base_uri": "https://localhost:8080/"
    },
    "id": "UWIUV6IaN0JL",
    "outputId": "367ebd5a-ae6c-446d-f935-9ffc177bcda3"
   },
   "outputs": [
    {
     "name": "stdout",
     "output_type": "stream",
     "text": [
      "<class 'pandas.core.frame.DataFrame'>\n",
      "Int64Index: 8693 entries, 0 to 8692\n",
      "Data columns (total 30 columns):\n",
      " #   Column                     Non-Null Count  Dtype  \n",
      "---  ------                     --------------  -----  \n",
      " 0   CryoSleep                  8693 non-null   int64  \n",
      " 1   Age                        8693 non-null   float64\n",
      " 2   VIP                        8693 non-null   int64  \n",
      " 3   RoomService                8693 non-null   float64\n",
      " 4   FoodCourt                  8693 non-null   float64\n",
      " 5   ShoppingMall               8693 non-null   float64\n",
      " 6   Spa                        8693 non-null   float64\n",
      " 7   VRDeck                     8693 non-null   float64\n",
      " 8   Group                      8693 non-null   int64  \n",
      " 9   Num                        8693 non-null   int64  \n",
      " 10  Minor                      8693 non-null   int64  \n",
      " 11  Total_Expense              8693 non-null   float64\n",
      " 12  Expenditure                8693 non-null   int64  \n",
      " 13  Transported                8693 non-null   int64  \n",
      " 14  HomePlanet_Earth           8693 non-null   uint8  \n",
      " 15  HomePlanet_Europa          8693 non-null   uint8  \n",
      " 16  HomePlanet_Mars            8693 non-null   uint8  \n",
      " 17  Destination_55 Cancri e    8693 non-null   uint8  \n",
      " 18  Destination_PSO J318.5-22  8693 non-null   uint8  \n",
      " 19  Destination_TRAPPIST-1e    8693 non-null   uint8  \n",
      " 20  Deck_A                     8693 non-null   uint8  \n",
      " 21  Deck_B                     8693 non-null   uint8  \n",
      " 22  Deck_C                     8693 non-null   uint8  \n",
      " 23  Deck_D                     8693 non-null   uint8  \n",
      " 24  Deck_E                     8693 non-null   uint8  \n",
      " 25  Deck_F                     8693 non-null   uint8  \n",
      " 26  Deck_G                     8693 non-null   uint8  \n",
      " 27  Deck_T                     8693 non-null   uint8  \n",
      " 28  Side_P                     8693 non-null   uint8  \n",
      " 29  Side_S                     8693 non-null   uint8  \n",
      "dtypes: float64(7), int64(7), uint8(16)\n",
      "memory usage: 1.1 MB\n"
     ]
    }
   ],
   "source": [
    "train.info()"
   ]
  },
  {
   "cell_type": "markdown",
   "metadata": {
    "id": "WMWE8vOjBwuk"
   },
   "source": [
    "**SPLIT:**"
   ]
  },
  {
   "cell_type": "code",
   "execution_count": 15,
   "metadata": {
    "id": "UHBDZoqKBwQ9"
   },
   "outputs": [],
   "source": [
    "from sklearn.model_selection import train_test_split"
   ]
  },
  {
   "cell_type": "code",
   "execution_count": 16,
   "metadata": {
    "colab": {
     "base_uri": "https://localhost:8080/"
    },
    "id": "tIaw9O3-BI2A",
    "outputId": "b5beb9bf-c644-4f3b-aeac-97e9184a3bd1"
   },
   "outputs": [
    {
     "name": "stdout",
     "output_type": "stream",
     "text": [
      "(8693, 29) (8693, 1)\n"
     ]
    }
   ],
   "source": [
    "x=train.drop([\"Transported\"], axis=1)\n",
    "y=train[\"Transported\"]\n",
    "y=y.values.reshape(-1, 1)\n",
    "print(x.shape, y.shape)"
   ]
  },
  {
   "cell_type": "code",
   "execution_count": 17,
   "metadata": {
    "id": "YrA-gr09BI9B"
   },
   "outputs": [],
   "source": [
    "x_train, x_test, y_train, y_test=train_test_split(x, y, shuffle=True, test_size=0.2, random_state=42)"
   ]
  },
  {
   "cell_type": "markdown",
   "metadata": {
    "id": "oq5K5_5pEQZ6"
   },
   "source": [
    "**TRAINING:**"
   ]
  },
  {
   "cell_type": "code",
   "execution_count": 19,
   "metadata": {
    "id": "j8n9ioyzDwCq"
   },
   "outputs": [],
   "source": [
    "from sklearn.ensemble import AdaBoostClassifier, GradientBoostingClassifier\n",
    "\n",
    "import xgboost as xgb\n",
    "\n",
    "from sklearn.metrics import accuracy_score"
   ]
  },
  {
   "cell_type": "code",
   "execution_count": 20,
   "metadata": {
    "id": "tTHqMZI3DwMa"
   },
   "outputs": [],
   "source": [
    "ABC=AdaBoostClassifier(n_estimators=100)\n",
    "GB=GradientBoostingClassifier(n_estimators=100)\n",
    "XGB=xgb.XGBClassifier()"
   ]
  },
  {
   "cell_type": "markdown",
   "metadata": {
    "id": "t46ffeEOQF_A"
   },
   "source": [
    "**Ada Boost:**"
   ]
  },
  {
   "cell_type": "code",
   "execution_count": null,
   "metadata": {
    "colab": {
     "base_uri": "https://localhost:8080/"
    },
    "id": "8j1LWGyVDwVq",
    "outputId": "ab5217b9-035f-420c-b26b-79f74298ff24"
   },
   "outputs": [
    {
     "name": "stderr",
     "output_type": "stream",
     "text": [
      "/usr/local/lib/python3.7/dist-packages/sklearn/utils/validation.py:993: DataConversionWarning: A column-vector y was passed when a 1d array was expected. Please change the shape of y to (n_samples, ), for example using ravel().\n",
      "  y = column_or_1d(y, warn=True)\n"
     ]
    },
    {
     "name": "stdout",
     "output_type": "stream",
     "text": [
      "Accuracy:  0.7889591719378953\n"
     ]
    }
   ],
   "source": [
    "abcmodel=ABC.fit(x_train, y_train)\n",
    "y_pred=abcmodel.predict(x_test)\n",
    "\n",
    "print(\"Accuracy: \",accuracy_score(y_test, y_pred))"
   ]
  },
  {
   "cell_type": "markdown",
   "metadata": {
    "id": "kYmjf_bLQKjZ"
   },
   "source": [
    "**Gradient Boosting:**"
   ]
  },
  {
   "cell_type": "code",
   "execution_count": 21,
   "metadata": {
    "colab": {
     "base_uri": "https://localhost:8080/"
    },
    "id": "f7RA0fLcDwfY",
    "outputId": "2dc7db24-974b-4395-809d-791790a4de15"
   },
   "outputs": [
    {
     "name": "stderr",
     "output_type": "stream",
     "text": [
      "/usr/local/lib/python3.7/dist-packages/sklearn/ensemble/_gb.py:494: DataConversionWarning: A column-vector y was passed when a 1d array was expected. Please change the shape of y to (n_samples, ), for example using ravel().\n",
      "  y = column_or_1d(y, warn=True)\n"
     ]
    },
    {
     "name": "stdout",
     "output_type": "stream",
     "text": [
      "Accuracy: 0.7987349051178838\n"
     ]
    }
   ],
   "source": [
    "gbmodel=GB.fit(x_train, y_train)\n",
    "y_pred=gbmodel.predict(x_test)\n",
    "\n",
    "print(\"Accuracy:\",accuracy_score(y_test,y_pred) )"
   ]
  },
  {
   "cell_type": "markdown",
   "metadata": {
    "id": "euIXh4BXQ30Y"
   },
   "source": [
    "**XGBoost:**"
   ]
  },
  {
   "cell_type": "code",
   "execution_count": null,
   "metadata": {
    "colab": {
     "base_uri": "https://localhost:8080/"
    },
    "id": "XnZ73M-2Q3ab",
    "outputId": "0dbd35b3-6ac2-4199-8728-9be1a4d5a3ce"
   },
   "outputs": [
    {
     "name": "stdout",
     "output_type": "stream",
     "text": [
      "[0]\tvalidation_0-auc:0.837251\tvalidation_0-error:0.237849\tvalidation_1-auc:0.82748\tvalidation_1-error:0.258194\n",
      "[1]\tvalidation_0-auc:0.845589\tvalidation_0-error:0.232672\tvalidation_1-auc:0.834404\tvalidation_1-error:0.250144\n",
      "[2]\tvalidation_0-auc:0.851605\tvalidation_0-error:0.23224\tvalidation_1-auc:0.841966\tvalidation_1-error:0.250719\n",
      "[3]\tvalidation_0-auc:0.853529\tvalidation_0-error:0.228789\tvalidation_1-auc:0.84166\tvalidation_1-error:0.248994\n",
      "[4]\tvalidation_0-auc:0.855669\tvalidation_0-error:0.228645\tvalidation_1-auc:0.843884\tvalidation_1-error:0.248994\n",
      "[5]\tvalidation_0-auc:0.857004\tvalidation_0-error:0.228645\tvalidation_1-auc:0.844092\tvalidation_1-error:0.248419\n",
      "[6]\tvalidation_0-auc:0.862237\tvalidation_0-error:0.214121\tvalidation_1-auc:0.850315\tvalidation_1-error:0.232892\n",
      "[7]\tvalidation_0-auc:0.863355\tvalidation_0-error:0.213834\tvalidation_1-auc:0.851925\tvalidation_1-error:0.232892\n",
      "[8]\tvalidation_0-auc:0.867984\tvalidation_0-error:0.227495\tvalidation_1-auc:0.856194\tvalidation_1-error:0.237493\n",
      "[9]\tvalidation_0-auc:0.86702\tvalidation_0-error:0.209376\tvalidation_1-auc:0.855628\tvalidation_1-error:0.230592\n",
      "[10]\tvalidation_0-auc:0.866694\tvalidation_0-error:0.20952\tvalidation_1-auc:0.856071\tvalidation_1-error:0.226567\n",
      "[11]\tvalidation_0-auc:0.868733\tvalidation_0-error:0.227064\tvalidation_1-auc:0.856436\tvalidation_1-error:0.236918\n",
      "[12]\tvalidation_0-auc:0.869374\tvalidation_0-error:0.208513\tvalidation_1-auc:0.85645\tvalidation_1-error:0.227142\n",
      "[13]\tvalidation_0-auc:0.870627\tvalidation_0-error:0.208513\tvalidation_1-auc:0.85814\tvalidation_1-error:0.226567\n",
      "[14]\tvalidation_0-auc:0.870633\tvalidation_0-error:0.208225\tvalidation_1-auc:0.85835\tvalidation_1-error:0.227142\n",
      "[15]\tvalidation_0-auc:0.871769\tvalidation_0-error:0.202761\tvalidation_1-auc:0.858736\tvalidation_1-error:0.222542\n",
      "[16]\tvalidation_0-auc:0.872035\tvalidation_0-error:0.202761\tvalidation_1-auc:0.859103\tvalidation_1-error:0.225417\n",
      "[17]\tvalidation_0-auc:0.8738\tvalidation_0-error:0.203049\tvalidation_1-auc:0.860804\tvalidation_1-error:0.224267\n",
      "[18]\tvalidation_0-auc:0.874565\tvalidation_0-error:0.201898\tvalidation_1-auc:0.861423\tvalidation_1-error:0.220817\n",
      "[19]\tvalidation_0-auc:0.876462\tvalidation_0-error:0.201179\tvalidation_1-auc:0.863393\tvalidation_1-error:0.221967\n",
      "[20]\tvalidation_0-auc:0.878279\tvalidation_0-error:0.200316\tvalidation_1-auc:0.864939\tvalidation_1-error:0.221967\n",
      "[21]\tvalidation_0-auc:0.879917\tvalidation_0-error:0.200892\tvalidation_1-auc:0.866087\tvalidation_1-error:0.222542\n",
      "[22]\tvalidation_0-auc:0.882287\tvalidation_0-error:0.199454\tvalidation_1-auc:0.867709\tvalidation_1-error:0.220242\n",
      "[23]\tvalidation_0-auc:0.883285\tvalidation_0-error:0.199741\tvalidation_1-auc:0.868389\tvalidation_1-error:0.219091\n",
      "[24]\tvalidation_0-auc:0.886211\tvalidation_0-error:0.197728\tvalidation_1-auc:0.871611\tvalidation_1-error:0.217366\n",
      "[25]\tvalidation_0-auc:0.887162\tvalidation_0-error:0.197153\tvalidation_1-auc:0.872216\tvalidation_1-error:0.219666\n",
      "[26]\tvalidation_0-auc:0.887634\tvalidation_0-error:0.197153\tvalidation_1-auc:0.872517\tvalidation_1-error:0.218516\n",
      "[27]\tvalidation_0-auc:0.888392\tvalidation_0-error:0.196721\tvalidation_1-auc:0.872564\tvalidation_1-error:0.219091\n",
      "[28]\tvalidation_0-auc:0.890349\tvalidation_0-error:0.195139\tvalidation_1-auc:0.874166\tvalidation_1-error:0.217366\n",
      "[29]\tvalidation_0-auc:0.89073\tvalidation_0-error:0.194277\tvalidation_1-auc:0.874116\tvalidation_1-error:0.217941\n",
      "[30]\tvalidation_0-auc:0.891696\tvalidation_0-error:0.193989\tvalidation_1-auc:0.875033\tvalidation_1-error:0.217366\n",
      "[31]\tvalidation_0-auc:0.893765\tvalidation_0-error:0.193126\tvalidation_1-auc:0.877218\tvalidation_1-error:0.217366\n",
      "[32]\tvalidation_0-auc:0.894096\tvalidation_0-error:0.192839\tvalidation_1-auc:0.877444\tvalidation_1-error:0.216216\n",
      "[33]\tvalidation_0-auc:0.894177\tvalidation_0-error:0.191544\tvalidation_1-auc:0.876418\tvalidation_1-error:0.216216\n",
      "[34]\tvalidation_0-auc:0.896106\tvalidation_0-error:0.191257\tvalidation_1-auc:0.878454\tvalidation_1-error:0.215066\n",
      "[35]\tvalidation_0-auc:0.896186\tvalidation_0-error:0.191688\tvalidation_1-auc:0.877715\tvalidation_1-error:0.215641\n",
      "[36]\tvalidation_0-auc:0.896871\tvalidation_0-error:0.191257\tvalidation_1-auc:0.878213\tvalidation_1-error:0.216216\n",
      "[37]\tvalidation_0-auc:0.897485\tvalidation_0-error:0.192263\tvalidation_1-auc:0.878546\tvalidation_1-error:0.215641\n",
      "[38]\tvalidation_0-auc:0.898479\tvalidation_0-error:0.191113\tvalidation_1-auc:0.879506\tvalidation_1-error:0.213916\n",
      "[39]\tvalidation_0-auc:0.898687\tvalidation_0-error:0.190825\tvalidation_1-auc:0.879514\tvalidation_1-error:0.213916\n",
      "[40]\tvalidation_0-auc:0.899155\tvalidation_0-error:0.191113\tvalidation_1-auc:0.879729\tvalidation_1-error:0.215641\n",
      "[41]\tvalidation_0-auc:0.900133\tvalidation_0-error:0.190682\tvalidation_1-auc:0.880975\tvalidation_1-error:0.213341\n",
      "[42]\tvalidation_0-auc:0.900175\tvalidation_0-error:0.190106\tvalidation_1-auc:0.880533\tvalidation_1-error:0.212191\n",
      "[43]\tvalidation_0-auc:0.90054\tvalidation_0-error:0.190825\tvalidation_1-auc:0.88086\tvalidation_1-error:0.211616\n",
      "[44]\tvalidation_0-auc:0.901222\tvalidation_0-error:0.190106\tvalidation_1-auc:0.881228\tvalidation_1-error:0.210466\n",
      "[45]\tvalidation_0-auc:0.901578\tvalidation_0-error:0.189819\tvalidation_1-auc:0.881355\tvalidation_1-error:0.210466\n",
      "[46]\tvalidation_0-auc:0.902506\tvalidation_0-error:0.188525\tvalidation_1-auc:0.882169\tvalidation_1-error:0.211041\n",
      "[47]\tvalidation_0-auc:0.902946\tvalidation_0-error:0.187662\tvalidation_1-auc:0.88206\tvalidation_1-error:0.211041\n",
      "[48]\tvalidation_0-auc:0.903221\tvalidation_0-error:0.187518\tvalidation_1-auc:0.882286\tvalidation_1-error:0.210466\n",
      "[49]\tvalidation_0-auc:0.903495\tvalidation_0-error:0.187662\tvalidation_1-auc:0.882393\tvalidation_1-error:0.208741\n",
      "[50]\tvalidation_0-auc:0.903674\tvalidation_0-error:0.187518\tvalidation_1-auc:0.882515\tvalidation_1-error:0.208741\n",
      "[51]\tvalidation_0-auc:0.904277\tvalidation_0-error:0.186511\tvalidation_1-auc:0.883169\tvalidation_1-error:0.209316\n",
      "[52]\tvalidation_0-auc:0.90462\tvalidation_0-error:0.187087\tvalidation_1-auc:0.882969\tvalidation_1-error:0.209316\n",
      "[53]\tvalidation_0-auc:0.905125\tvalidation_0-error:0.187518\tvalidation_1-auc:0.883311\tvalidation_1-error:0.209891\n",
      "[54]\tvalidation_0-auc:0.90528\tvalidation_0-error:0.187662\tvalidation_1-auc:0.883344\tvalidation_1-error:0.208166\n",
      "[55]\tvalidation_0-auc:0.905795\tvalidation_0-error:0.18608\tvalidation_1-auc:0.883885\tvalidation_1-error:0.208741\n",
      "[56]\tvalidation_0-auc:0.906293\tvalidation_0-error:0.185792\tvalidation_1-auc:0.884326\tvalidation_1-error:0.207591\n",
      "[57]\tvalidation_0-auc:0.906471\tvalidation_0-error:0.185649\tvalidation_1-auc:0.88455\tvalidation_1-error:0.208166\n",
      "[58]\tvalidation_0-auc:0.906874\tvalidation_0-error:0.186511\tvalidation_1-auc:0.884734\tvalidation_1-error:0.208741\n",
      "[59]\tvalidation_0-auc:0.907117\tvalidation_0-error:0.186799\tvalidation_1-auc:0.884978\tvalidation_1-error:0.208741\n",
      "[60]\tvalidation_0-auc:0.907255\tvalidation_0-error:0.186655\tvalidation_1-auc:0.885069\tvalidation_1-error:0.208741\n",
      "[61]\tvalidation_0-auc:0.907763\tvalidation_0-error:0.18493\tvalidation_1-auc:0.885689\tvalidation_1-error:0.210466\n",
      "[62]\tvalidation_0-auc:0.908187\tvalidation_0-error:0.184642\tvalidation_1-auc:0.88608\tvalidation_1-error:0.207591\n",
      "[63]\tvalidation_0-auc:0.908452\tvalidation_0-error:0.18493\tvalidation_1-auc:0.886038\tvalidation_1-error:0.209316\n",
      "[64]\tvalidation_0-auc:0.908663\tvalidation_0-error:0.183923\tvalidation_1-auc:0.886127\tvalidation_1-error:0.210466\n",
      "[65]\tvalidation_0-auc:0.908738\tvalidation_0-error:0.184498\tvalidation_1-auc:0.886041\tvalidation_1-error:0.20644\n",
      "[66]\tvalidation_0-auc:0.908822\tvalidation_0-error:0.183779\tvalidation_1-auc:0.886049\tvalidation_1-error:0.20644\n",
      "[67]\tvalidation_0-auc:0.909121\tvalidation_0-error:0.183923\tvalidation_1-auc:0.886129\tvalidation_1-error:0.209891\n",
      "[68]\tvalidation_0-auc:0.909184\tvalidation_0-error:0.184067\tvalidation_1-auc:0.886101\tvalidation_1-error:0.207591\n",
      "[69]\tvalidation_0-auc:0.909308\tvalidation_0-error:0.183635\tvalidation_1-auc:0.886351\tvalidation_1-error:0.208166\n",
      "[70]\tvalidation_0-auc:0.90944\tvalidation_0-error:0.18306\tvalidation_1-auc:0.886544\tvalidation_1-error:0.208741\n",
      "[71]\tvalidation_0-auc:0.909673\tvalidation_0-error:0.183779\tvalidation_1-auc:0.886483\tvalidation_1-error:0.208166\n",
      "[72]\tvalidation_0-auc:0.909769\tvalidation_0-error:0.183492\tvalidation_1-auc:0.886601\tvalidation_1-error:0.208741\n",
      "[73]\tvalidation_0-auc:0.909843\tvalidation_0-error:0.183348\tvalidation_1-auc:0.886601\tvalidation_1-error:0.208166\n",
      "[74]\tvalidation_0-auc:0.910193\tvalidation_0-error:0.183492\tvalidation_1-auc:0.887501\tvalidation_1-error:0.208741\n",
      "[75]\tvalidation_0-auc:0.910363\tvalidation_0-error:0.183492\tvalidation_1-auc:0.887534\tvalidation_1-error:0.208741\n",
      "[76]\tvalidation_0-auc:0.910506\tvalidation_0-error:0.183779\tvalidation_1-auc:0.8876\tvalidation_1-error:0.209316\n",
      "[77]\tvalidation_0-auc:0.910805\tvalidation_0-error:0.183492\tvalidation_1-auc:0.887863\tvalidation_1-error:0.208741\n",
      "[78]\tvalidation_0-auc:0.910896\tvalidation_0-error:0.183779\tvalidation_1-auc:0.8878\tvalidation_1-error:0.209316\n",
      "[79]\tvalidation_0-auc:0.910993\tvalidation_0-error:0.183779\tvalidation_1-auc:0.887968\tvalidation_1-error:0.208741\n",
      "[80]\tvalidation_0-auc:0.911384\tvalidation_0-error:0.183635\tvalidation_1-auc:0.888068\tvalidation_1-error:0.209316\n",
      "[81]\tvalidation_0-auc:0.91158\tvalidation_0-error:0.183779\tvalidation_1-auc:0.888248\tvalidation_1-error:0.209316\n",
      "[82]\tvalidation_0-auc:0.911674\tvalidation_0-error:0.183923\tvalidation_1-auc:0.888234\tvalidation_1-error:0.209316\n",
      "[83]\tvalidation_0-auc:0.911842\tvalidation_0-error:0.183492\tvalidation_1-auc:0.888417\tvalidation_1-error:0.209316\n",
      "[84]\tvalidation_0-auc:0.912233\tvalidation_0-error:0.182916\tvalidation_1-auc:0.888701\tvalidation_1-error:0.208741\n",
      "[85]\tvalidation_0-auc:0.912503\tvalidation_0-error:0.181334\tvalidation_1-auc:0.888604\tvalidation_1-error:0.207591\n",
      "[86]\tvalidation_0-auc:0.912736\tvalidation_0-error:0.181478\tvalidation_1-auc:0.888727\tvalidation_1-error:0.20644\n",
      "[87]\tvalidation_0-auc:0.913065\tvalidation_0-error:0.179609\tvalidation_1-auc:0.888988\tvalidation_1-error:0.20644\n",
      "[88]\tvalidation_0-auc:0.91318\tvalidation_0-error:0.179321\tvalidation_1-auc:0.889077\tvalidation_1-error:0.205865\n",
      "[89]\tvalidation_0-auc:0.913506\tvalidation_0-error:0.178746\tvalidation_1-auc:0.888915\tvalidation_1-error:0.205865\n",
      "[90]\tvalidation_0-auc:0.913612\tvalidation_0-error:0.178746\tvalidation_1-auc:0.889006\tvalidation_1-error:0.20529\n",
      "[91]\tvalidation_0-auc:0.913672\tvalidation_0-error:0.178746\tvalidation_1-auc:0.888987\tvalidation_1-error:0.20529\n",
      "[92]\tvalidation_0-auc:0.914221\tvalidation_0-error:0.178315\tvalidation_1-auc:0.889798\tvalidation_1-error:0.20644\n",
      "[93]\tvalidation_0-auc:0.91439\tvalidation_0-error:0.177883\tvalidation_1-auc:0.889705\tvalidation_1-error:0.207591\n",
      "[94]\tvalidation_0-auc:0.914471\tvalidation_0-error:0.177883\tvalidation_1-auc:0.889678\tvalidation_1-error:0.207591\n",
      "[95]\tvalidation_0-auc:0.914784\tvalidation_0-error:0.177452\tvalidation_1-auc:0.889867\tvalidation_1-error:0.205865\n",
      "[96]\tvalidation_0-auc:0.914935\tvalidation_0-error:0.177883\tvalidation_1-auc:0.890023\tvalidation_1-error:0.20529\n",
      "[97]\tvalidation_0-auc:0.914967\tvalidation_0-error:0.177883\tvalidation_1-auc:0.88993\tvalidation_1-error:0.204715\n",
      "[98]\tvalidation_0-auc:0.915278\tvalidation_0-error:0.177596\tvalidation_1-auc:0.889998\tvalidation_1-error:0.203565\n",
      "[99]\tvalidation_0-auc:0.91535\tvalidation_0-error:0.177596\tvalidation_1-auc:0.889994\tvalidation_1-error:0.20414\n"
     ]
    }
   ],
   "source": [
    "eval_set=[(x_train,y_train),(x_test,y_test)]\n",
    "eval_metric=[\"auc\",\"error\"]\n",
    "\n",
    "xgbmodel=XGB.fit(x_train, y_train.ravel(), eval_metric=eval_metric,eval_set=eval_set, verbose=True)"
   ]
  },
  {
   "cell_type": "code",
   "execution_count": null,
   "metadata": {
    "colab": {
     "base_uri": "https://localhost:8080/"
    },
    "id": "sSJVgoeKS2ZK",
    "outputId": "dbd15eaf-0542-4642-cdfb-1594a87c3ebf"
   },
   "outputs": [
    {
     "name": "stdout",
     "output_type": "stream",
     "text": [
      "Accuracy:  0.79586\n"
     ]
    }
   ],
   "source": [
    "print(\"Accuracy: \", 1.00-0.20414)"
   ]
  },
  {
   "cell_type": "markdown",
   "metadata": {
    "id": "gxdrKs59Lnum"
   },
   "source": [
    "**PKL:**"
   ]
  },
  {
   "cell_type": "code",
   "execution_count": 23,
   "metadata": {
    "colab": {
     "base_uri": "https://localhost:8080/",
     "height": 36
    },
    "id": "x-xiPnApLnCx",
    "outputId": "82d7cea9-c4d3-4373-f4d6-516b9e5cf299"
   },
   "outputs": [
    {
     "data": {
      "application/vnd.google.colaboratory.intrinsic+json": {
       "type": "string"
      },
      "text/plain": [
       "\"\\nwith open('gbmodel.pkl', 'rb') as f:\\n    clf = pickle.load(f)\\n\""
      ]
     },
     "execution_count": 23,
     "metadata": {},
     "output_type": "execute_result"
    }
   ],
   "source": [
    "import pickle\n",
    "\n",
    "with open('gbmodel.pkl', 'wb') as f:\n",
    "    pickle.dump(gbmodel, f)\n",
    "\n",
    "'''\n",
    "with open('gbmodel.pkl', 'rb') as f:\n",
    "    clf = pickle.load(f)\n",
    "'''    "
   ]
  },
  {
   "cell_type": "code",
   "execution_count": 42,
   "metadata": {
    "id": "B0aebJjgXsze"
   },
   "outputs": [],
   "source": [
    "predsub=gbmodel.predict(test)"
   ]
  },
  {
   "cell_type": "code",
   "execution_count": 51,
   "metadata": {
    "colab": {
     "base_uri": "https://localhost:8080/",
     "height": 488
    },
    "id": "9fdRCbFReJrn",
    "outputId": "a9d66e75-eba9-4d35-f9d6-9d424e3a4ca6"
   },
   "outputs": [
    {
     "data": {
      "text/html": [
       "\n",
       "  <div id=\"df-a250a23d-f185-40ef-82f6-65696ce0f3d8\">\n",
       "    <div class=\"colab-df-container\">\n",
       "      <div>\n",
       "<style scoped>\n",
       "    .dataframe tbody tr th:only-of-type {\n",
       "        vertical-align: middle;\n",
       "    }\n",
       "\n",
       "    .dataframe tbody tr th {\n",
       "        vertical-align: top;\n",
       "    }\n",
       "\n",
       "    .dataframe thead th {\n",
       "        text-align: right;\n",
       "    }\n",
       "</style>\n",
       "<table border=\"1\" class=\"dataframe\">\n",
       "  <thead>\n",
       "    <tr style=\"text-align: right;\">\n",
       "      <th></th>\n",
       "      <th>CryoSleep</th>\n",
       "      <th>Age</th>\n",
       "      <th>VIP</th>\n",
       "      <th>RoomService</th>\n",
       "      <th>FoodCourt</th>\n",
       "      <th>ShoppingMall</th>\n",
       "      <th>Spa</th>\n",
       "      <th>VRDeck</th>\n",
       "      <th>Group</th>\n",
       "      <th>Num</th>\n",
       "      <th>...</th>\n",
       "      <th>Deck_A</th>\n",
       "      <th>Deck_B</th>\n",
       "      <th>Deck_C</th>\n",
       "      <th>Deck_D</th>\n",
       "      <th>Deck_E</th>\n",
       "      <th>Deck_F</th>\n",
       "      <th>Deck_G</th>\n",
       "      <th>Deck_T</th>\n",
       "      <th>Side_P</th>\n",
       "      <th>Side_S</th>\n",
       "    </tr>\n",
       "  </thead>\n",
       "  <tbody>\n",
       "    <tr>\n",
       "      <th>8693</th>\n",
       "      <td>1</td>\n",
       "      <td>27.0</td>\n",
       "      <td>0</td>\n",
       "      <td>0.0</td>\n",
       "      <td>0.0</td>\n",
       "      <td>0.0</td>\n",
       "      <td>0.0</td>\n",
       "      <td>0.0</td>\n",
       "      <td>1</td>\n",
       "      <td>3</td>\n",
       "      <td>...</td>\n",
       "      <td>0</td>\n",
       "      <td>0</td>\n",
       "      <td>0</td>\n",
       "      <td>0</td>\n",
       "      <td>0</td>\n",
       "      <td>0</td>\n",
       "      <td>1</td>\n",
       "      <td>0</td>\n",
       "      <td>0</td>\n",
       "      <td>1</td>\n",
       "    </tr>\n",
       "    <tr>\n",
       "      <th>8694</th>\n",
       "      <td>0</td>\n",
       "      <td>19.0</td>\n",
       "      <td>0</td>\n",
       "      <td>0.0</td>\n",
       "      <td>9.0</td>\n",
       "      <td>0.0</td>\n",
       "      <td>2823.0</td>\n",
       "      <td>0.0</td>\n",
       "      <td>1</td>\n",
       "      <td>4</td>\n",
       "      <td>...</td>\n",
       "      <td>0</td>\n",
       "      <td>0</td>\n",
       "      <td>0</td>\n",
       "      <td>0</td>\n",
       "      <td>0</td>\n",
       "      <td>1</td>\n",
       "      <td>0</td>\n",
       "      <td>0</td>\n",
       "      <td>0</td>\n",
       "      <td>1</td>\n",
       "    </tr>\n",
       "    <tr>\n",
       "      <th>8695</th>\n",
       "      <td>1</td>\n",
       "      <td>31.0</td>\n",
       "      <td>0</td>\n",
       "      <td>0.0</td>\n",
       "      <td>0.0</td>\n",
       "      <td>0.0</td>\n",
       "      <td>0.0</td>\n",
       "      <td>0.0</td>\n",
       "      <td>1</td>\n",
       "      <td>0</td>\n",
       "      <td>...</td>\n",
       "      <td>0</td>\n",
       "      <td>0</td>\n",
       "      <td>1</td>\n",
       "      <td>0</td>\n",
       "      <td>0</td>\n",
       "      <td>0</td>\n",
       "      <td>0</td>\n",
       "      <td>0</td>\n",
       "      <td>0</td>\n",
       "      <td>1</td>\n",
       "    </tr>\n",
       "    <tr>\n",
       "      <th>8696</th>\n",
       "      <td>0</td>\n",
       "      <td>38.0</td>\n",
       "      <td>0</td>\n",
       "      <td>0.0</td>\n",
       "      <td>6652.0</td>\n",
       "      <td>0.0</td>\n",
       "      <td>181.0</td>\n",
       "      <td>585.0</td>\n",
       "      <td>1</td>\n",
       "      <td>1</td>\n",
       "      <td>...</td>\n",
       "      <td>0</td>\n",
       "      <td>0</td>\n",
       "      <td>1</td>\n",
       "      <td>0</td>\n",
       "      <td>0</td>\n",
       "      <td>0</td>\n",
       "      <td>0</td>\n",
       "      <td>0</td>\n",
       "      <td>0</td>\n",
       "      <td>1</td>\n",
       "    </tr>\n",
       "    <tr>\n",
       "      <th>8697</th>\n",
       "      <td>0</td>\n",
       "      <td>20.0</td>\n",
       "      <td>0</td>\n",
       "      <td>10.0</td>\n",
       "      <td>0.0</td>\n",
       "      <td>635.0</td>\n",
       "      <td>0.0</td>\n",
       "      <td>0.0</td>\n",
       "      <td>1</td>\n",
       "      <td>5</td>\n",
       "      <td>...</td>\n",
       "      <td>0</td>\n",
       "      <td>0</td>\n",
       "      <td>0</td>\n",
       "      <td>0</td>\n",
       "      <td>0</td>\n",
       "      <td>1</td>\n",
       "      <td>0</td>\n",
       "      <td>0</td>\n",
       "      <td>0</td>\n",
       "      <td>1</td>\n",
       "    </tr>\n",
       "    <tr>\n",
       "      <th>...</th>\n",
       "      <td>...</td>\n",
       "      <td>...</td>\n",
       "      <td>...</td>\n",
       "      <td>...</td>\n",
       "      <td>...</td>\n",
       "      <td>...</td>\n",
       "      <td>...</td>\n",
       "      <td>...</td>\n",
       "      <td>...</td>\n",
       "      <td>...</td>\n",
       "      <td>...</td>\n",
       "      <td>...</td>\n",
       "      <td>...</td>\n",
       "      <td>...</td>\n",
       "      <td>...</td>\n",
       "      <td>...</td>\n",
       "      <td>...</td>\n",
       "      <td>...</td>\n",
       "      <td>...</td>\n",
       "      <td>...</td>\n",
       "      <td>...</td>\n",
       "    </tr>\n",
       "    <tr>\n",
       "      <th>12965</th>\n",
       "      <td>1</td>\n",
       "      <td>34.0</td>\n",
       "      <td>0</td>\n",
       "      <td>0.0</td>\n",
       "      <td>0.0</td>\n",
       "      <td>0.0</td>\n",
       "      <td>0.0</td>\n",
       "      <td>0.0</td>\n",
       "      <td>2</td>\n",
       "      <td>1496</td>\n",
       "      <td>...</td>\n",
       "      <td>0</td>\n",
       "      <td>0</td>\n",
       "      <td>0</td>\n",
       "      <td>0</td>\n",
       "      <td>0</td>\n",
       "      <td>0</td>\n",
       "      <td>1</td>\n",
       "      <td>0</td>\n",
       "      <td>0</td>\n",
       "      <td>1</td>\n",
       "    </tr>\n",
       "    <tr>\n",
       "      <th>12966</th>\n",
       "      <td>0</td>\n",
       "      <td>42.0</td>\n",
       "      <td>0</td>\n",
       "      <td>0.0</td>\n",
       "      <td>847.0</td>\n",
       "      <td>17.0</td>\n",
       "      <td>10.0</td>\n",
       "      <td>144.0</td>\n",
       "      <td>1</td>\n",
       "      <td>0</td>\n",
       "      <td>...</td>\n",
       "      <td>0</td>\n",
       "      <td>0</td>\n",
       "      <td>0</td>\n",
       "      <td>0</td>\n",
       "      <td>0</td>\n",
       "      <td>1</td>\n",
       "      <td>0</td>\n",
       "      <td>0</td>\n",
       "      <td>0</td>\n",
       "      <td>1</td>\n",
       "    </tr>\n",
       "    <tr>\n",
       "      <th>12967</th>\n",
       "      <td>1</td>\n",
       "      <td>18.0</td>\n",
       "      <td>0</td>\n",
       "      <td>0.0</td>\n",
       "      <td>0.0</td>\n",
       "      <td>0.0</td>\n",
       "      <td>0.0</td>\n",
       "      <td>0.0</td>\n",
       "      <td>1</td>\n",
       "      <td>296</td>\n",
       "      <td>...</td>\n",
       "      <td>0</td>\n",
       "      <td>0</td>\n",
       "      <td>0</td>\n",
       "      <td>1</td>\n",
       "      <td>0</td>\n",
       "      <td>0</td>\n",
       "      <td>0</td>\n",
       "      <td>0</td>\n",
       "      <td>1</td>\n",
       "      <td>0</td>\n",
       "    </tr>\n",
       "    <tr>\n",
       "      <th>12968</th>\n",
       "      <td>0</td>\n",
       "      <td>18.0</td>\n",
       "      <td>0</td>\n",
       "      <td>0.0</td>\n",
       "      <td>2680.0</td>\n",
       "      <td>0.0</td>\n",
       "      <td>0.0</td>\n",
       "      <td>523.0</td>\n",
       "      <td>1</td>\n",
       "      <td>297</td>\n",
       "      <td>...</td>\n",
       "      <td>0</td>\n",
       "      <td>0</td>\n",
       "      <td>0</td>\n",
       "      <td>1</td>\n",
       "      <td>0</td>\n",
       "      <td>0</td>\n",
       "      <td>0</td>\n",
       "      <td>0</td>\n",
       "      <td>1</td>\n",
       "      <td>0</td>\n",
       "    </tr>\n",
       "    <tr>\n",
       "      <th>12969</th>\n",
       "      <td>1</td>\n",
       "      <td>43.0</td>\n",
       "      <td>0</td>\n",
       "      <td>0.0</td>\n",
       "      <td>0.0</td>\n",
       "      <td>0.0</td>\n",
       "      <td>0.0</td>\n",
       "      <td>0.0</td>\n",
       "      <td>1</td>\n",
       "      <td>1498</td>\n",
       "      <td>...</td>\n",
       "      <td>0</td>\n",
       "      <td>0</td>\n",
       "      <td>0</td>\n",
       "      <td>0</td>\n",
       "      <td>0</td>\n",
       "      <td>0</td>\n",
       "      <td>1</td>\n",
       "      <td>0</td>\n",
       "      <td>0</td>\n",
       "      <td>1</td>\n",
       "    </tr>\n",
       "  </tbody>\n",
       "</table>\n",
       "<p>4277 rows × 29 columns</p>\n",
       "</div>\n",
       "      <button class=\"colab-df-convert\" onclick=\"convertToInteractive('df-a250a23d-f185-40ef-82f6-65696ce0f3d8')\"\n",
       "              title=\"Convert this dataframe to an interactive table.\"\n",
       "              style=\"display:none;\">\n",
       "        \n",
       "  <svg xmlns=\"http://www.w3.org/2000/svg\" height=\"24px\"viewBox=\"0 0 24 24\"\n",
       "       width=\"24px\">\n",
       "    <path d=\"M0 0h24v24H0V0z\" fill=\"none\"/>\n",
       "    <path d=\"M18.56 5.44l.94 2.06.94-2.06 2.06-.94-2.06-.94-.94-2.06-.94 2.06-2.06.94zm-11 1L8.5 8.5l.94-2.06 2.06-.94-2.06-.94L8.5 2.5l-.94 2.06-2.06.94zm10 10l.94 2.06.94-2.06 2.06-.94-2.06-.94-.94-2.06-.94 2.06-2.06.94z\"/><path d=\"M17.41 7.96l-1.37-1.37c-.4-.4-.92-.59-1.43-.59-.52 0-1.04.2-1.43.59L10.3 9.45l-7.72 7.72c-.78.78-.78 2.05 0 2.83L4 21.41c.39.39.9.59 1.41.59.51 0 1.02-.2 1.41-.59l7.78-7.78 2.81-2.81c.8-.78.8-2.07 0-2.86zM5.41 20L4 18.59l7.72-7.72 1.47 1.35L5.41 20z\"/>\n",
       "  </svg>\n",
       "      </button>\n",
       "      \n",
       "  <style>\n",
       "    .colab-df-container {\n",
       "      display:flex;\n",
       "      flex-wrap:wrap;\n",
       "      gap: 12px;\n",
       "    }\n",
       "\n",
       "    .colab-df-convert {\n",
       "      background-color: #E8F0FE;\n",
       "      border: none;\n",
       "      border-radius: 50%;\n",
       "      cursor: pointer;\n",
       "      display: none;\n",
       "      fill: #1967D2;\n",
       "      height: 32px;\n",
       "      padding: 0 0 0 0;\n",
       "      width: 32px;\n",
       "    }\n",
       "\n",
       "    .colab-df-convert:hover {\n",
       "      background-color: #E2EBFA;\n",
       "      box-shadow: 0px 1px 2px rgba(60, 64, 67, 0.3), 0px 1px 3px 1px rgba(60, 64, 67, 0.15);\n",
       "      fill: #174EA6;\n",
       "    }\n",
       "\n",
       "    [theme=dark] .colab-df-convert {\n",
       "      background-color: #3B4455;\n",
       "      fill: #D2E3FC;\n",
       "    }\n",
       "\n",
       "    [theme=dark] .colab-df-convert:hover {\n",
       "      background-color: #434B5C;\n",
       "      box-shadow: 0px 1px 3px 1px rgba(0, 0, 0, 0.15);\n",
       "      filter: drop-shadow(0px 1px 2px rgba(0, 0, 0, 0.3));\n",
       "      fill: #FFFFFF;\n",
       "    }\n",
       "  </style>\n",
       "\n",
       "      <script>\n",
       "        const buttonEl =\n",
       "          document.querySelector('#df-a250a23d-f185-40ef-82f6-65696ce0f3d8 button.colab-df-convert');\n",
       "        buttonEl.style.display =\n",
       "          google.colab.kernel.accessAllowed ? 'block' : 'none';\n",
       "\n",
       "        async function convertToInteractive(key) {\n",
       "          const element = document.querySelector('#df-a250a23d-f185-40ef-82f6-65696ce0f3d8');\n",
       "          const dataTable =\n",
       "            await google.colab.kernel.invokeFunction('convertToInteractive',\n",
       "                                                     [key], {});\n",
       "          if (!dataTable) return;\n",
       "\n",
       "          const docLinkHtml = 'Like what you see? Visit the ' +\n",
       "            '<a target=\"_blank\" href=https://colab.research.google.com/notebooks/data_table.ipynb>data table notebook</a>'\n",
       "            + ' to learn more about interactive tables.';\n",
       "          element.innerHTML = '';\n",
       "          dataTable['output_type'] = 'display_data';\n",
       "          await google.colab.output.renderOutput(dataTable, element);\n",
       "          const docLink = document.createElement('div');\n",
       "          docLink.innerHTML = docLinkHtml;\n",
       "          element.appendChild(docLink);\n",
       "        }\n",
       "      </script>\n",
       "    </div>\n",
       "  </div>\n",
       "  "
      ],
      "text/plain": [
       "       CryoSleep   Age  VIP  RoomService  FoodCourt  ShoppingMall     Spa  \\\n",
       "8693           1  27.0    0          0.0        0.0           0.0     0.0   \n",
       "8694           0  19.0    0          0.0        9.0           0.0  2823.0   \n",
       "8695           1  31.0    0          0.0        0.0           0.0     0.0   \n",
       "8696           0  38.0    0          0.0     6652.0           0.0   181.0   \n",
       "8697           0  20.0    0         10.0        0.0         635.0     0.0   \n",
       "...          ...   ...  ...          ...        ...           ...     ...   \n",
       "12965          1  34.0    0          0.0        0.0           0.0     0.0   \n",
       "12966          0  42.0    0          0.0      847.0          17.0    10.0   \n",
       "12967          1  18.0    0          0.0        0.0           0.0     0.0   \n",
       "12968          0  18.0    0          0.0     2680.0           0.0     0.0   \n",
       "12969          1  43.0    0          0.0        0.0           0.0     0.0   \n",
       "\n",
       "       VRDeck  Group   Num  ...  Deck_A  Deck_B  Deck_C  Deck_D  Deck_E  \\\n",
       "8693      0.0      1     3  ...       0       0       0       0       0   \n",
       "8694      0.0      1     4  ...       0       0       0       0       0   \n",
       "8695      0.0      1     0  ...       0       0       1       0       0   \n",
       "8696    585.0      1     1  ...       0       0       1       0       0   \n",
       "8697      0.0      1     5  ...       0       0       0       0       0   \n",
       "...       ...    ...   ...  ...     ...     ...     ...     ...     ...   \n",
       "12965     0.0      2  1496  ...       0       0       0       0       0   \n",
       "12966   144.0      1     0  ...       0       0       0       0       0   \n",
       "12967     0.0      1   296  ...       0       0       0       1       0   \n",
       "12968   523.0      1   297  ...       0       0       0       1       0   \n",
       "12969     0.0      1  1498  ...       0       0       0       0       0   \n",
       "\n",
       "       Deck_F  Deck_G  Deck_T  Side_P  Side_S  \n",
       "8693        0       1       0       0       1  \n",
       "8694        1       0       0       0       1  \n",
       "8695        0       0       0       0       1  \n",
       "8696        0       0       0       0       1  \n",
       "8697        1       0       0       0       1  \n",
       "...       ...     ...     ...     ...     ...  \n",
       "12965       0       1       0       0       1  \n",
       "12966       1       0       0       0       1  \n",
       "12967       0       0       0       1       0  \n",
       "12968       0       0       0       1       0  \n",
       "12969       0       1       0       0       1  \n",
       "\n",
       "[4277 rows x 29 columns]"
      ]
     },
     "execution_count": 51,
     "metadata": {},
     "output_type": "execute_result"
    }
   ],
   "source": [
    "test"
   ]
  },
  {
   "cell_type": "code",
   "execution_count": 67,
   "metadata": {
    "id": "f2YXTdhJXfXs"
   },
   "outputs": [],
   "source": [
    "testdf=pd.read_csv(\"/content/test.csv\")\n",
    "Submission['PassengerId']=testdf['PassengerId']\n",
    "Submission['Transported']=pd.DataFrame(predsub)\n",
    "#Submission['Transported']=Submission['Transported'].astype(int)\n",
    "#Submission['PassengerId']=Submission['PassengerId'].astype(str)\n",
    "\n",
    "Submission.iloc[:, 1:] = Submission.iloc[:, 1:].astype(bool)\n",
    "\n",
    "Submission=Submission[['PassengerId','Transported']]\n",
    "\n",
    "Submission.to_csv('submission.csv', index=False)"
   ]
  },
  {
   "cell_type": "code",
   "execution_count": 66,
   "metadata": {
    "colab": {
     "base_uri": "https://localhost:8080/"
    },
    "id": "GG6WRtiFabAm",
    "outputId": "e95b4af4-0825-4a5e-e957-c8c072e23ba1"
   },
   "outputs": [
    {
     "name": "stdout",
     "output_type": "stream",
     "text": [
      "<class 'pandas.core.frame.DataFrame'>\n",
      "RangeIndex: 4277 entries, 0 to 4276\n",
      "Data columns (total 2 columns):\n",
      " #   Column       Non-Null Count  Dtype \n",
      "---  ------       --------------  ----- \n",
      " 0   PassengerId  4277 non-null   object\n",
      " 1   Transported  4277 non-null   bool  \n",
      "dtypes: bool(1), object(1)\n",
      "memory usage: 37.7+ KB\n"
     ]
    }
   ],
   "source": [
    "Submission.info()"
   ]
  }
 ],
 "metadata": {
  "colab": {
   "authorship_tag": "ABX9TyPisKOp90ogSox/fgbqp/Su",
   "collapsed_sections": [],
   "name": "Spaceship_Titanic_Model.ipynb",
   "provenance": []
  },
  "kernelspec": {
   "display_name": "Python 3 (ipykernel)",
   "language": "python",
   "name": "python3"
  },
  "language_info": {
   "codemirror_mode": {
    "name": "ipython",
    "version": 3
   },
   "file_extension": ".py",
   "mimetype": "text/x-python",
   "name": "python",
   "nbconvert_exporter": "python",
   "pygments_lexer": "ipython3",
   "version": "3.9.13"
  }
 },
 "nbformat": 4,
 "nbformat_minor": 4
}
