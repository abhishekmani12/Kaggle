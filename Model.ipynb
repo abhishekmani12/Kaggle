{
  "nbformat": 4,
  "nbformat_minor": 0,
  "metadata": {
    "colab": {
      "name": "Spaceship_Titanic_Model.ipynb",
      "provenance": [],
      "authorship_tag": "ABX9TyNnkDmyCtgHiV7wOXo4hHcD"
    },
    "kernelspec": {
      "name": "python3",
      "display_name": "Python 3"
    },
    "language_info": {
      "name": "python"
    }
  },
  "cells": [
    {
      "cell_type": "code",
      "execution_count": 2,
      "metadata": {
        "colab": {
          "base_uri": "https://localhost:8080/"
        },
        "id": "mUREOCZr7zI_",
        "outputId": "1c86f6da-a258-4436-8e8a-a50d3a638547"
      },
      "outputs": [
        {
          "output_type": "stream",
          "name": "stdout",
          "text": [
            "Looking in indexes: https://pypi.org/simple, https://us-python.pkg.dev/colab-wheels/public/simple/\n",
            "Collecting optuna\n",
            "  Downloading optuna-2.10.1-py3-none-any.whl (308 kB)\n",
            "\u001b[K     |████████████████████████████████| 308 kB 4.3 MB/s \n",
            "\u001b[?25hCollecting alembic\n",
            "  Downloading alembic-1.8.1-py3-none-any.whl (209 kB)\n",
            "\u001b[K     |████████████████████████████████| 209 kB 44.5 MB/s \n",
            "\u001b[?25hRequirement already satisfied: sqlalchemy>=1.1.0 in /usr/local/lib/python3.7/dist-packages (from optuna) (1.4.40)\n",
            "Collecting cliff\n",
            "  Downloading cliff-3.10.1-py3-none-any.whl (81 kB)\n",
            "\u001b[K     |████████████████████████████████| 81 kB 9.7 MB/s \n",
            "\u001b[?25hRequirement already satisfied: scipy!=1.4.0 in /usr/local/lib/python3.7/dist-packages (from optuna) (1.7.3)\n",
            "Requirement already satisfied: tqdm in /usr/local/lib/python3.7/dist-packages (from optuna) (4.64.0)\n",
            "Collecting colorlog\n",
            "  Downloading colorlog-6.6.0-py2.py3-none-any.whl (11 kB)\n",
            "Requirement already satisfied: PyYAML in /usr/local/lib/python3.7/dist-packages (from optuna) (6.0)\n",
            "Collecting cmaes>=0.8.2\n",
            "  Downloading cmaes-0.8.2-py3-none-any.whl (15 kB)\n",
            "Requirement already satisfied: packaging>=20.0 in /usr/local/lib/python3.7/dist-packages (from optuna) (21.3)\n",
            "Requirement already satisfied: numpy in /usr/local/lib/python3.7/dist-packages (from optuna) (1.21.6)\n",
            "Requirement already satisfied: pyparsing!=3.0.5,>=2.0.2 in /usr/local/lib/python3.7/dist-packages (from packaging>=20.0->optuna) (3.0.9)\n",
            "Requirement already satisfied: greenlet!=0.4.17 in /usr/local/lib/python3.7/dist-packages (from sqlalchemy>=1.1.0->optuna) (1.1.2)\n",
            "Requirement already satisfied: importlib-metadata in /usr/local/lib/python3.7/dist-packages (from sqlalchemy>=1.1.0->optuna) (4.12.0)\n",
            "Collecting Mako\n",
            "  Downloading Mako-1.2.1-py3-none-any.whl (78 kB)\n",
            "\u001b[K     |████████████████████████████████| 78 kB 7.9 MB/s \n",
            "\u001b[?25hRequirement already satisfied: importlib-resources in /usr/local/lib/python3.7/dist-packages (from alembic->optuna) (5.9.0)\n",
            "Collecting stevedore>=2.0.1\n",
            "  Downloading stevedore-3.5.0-py3-none-any.whl (49 kB)\n",
            "\u001b[K     |████████████████████████████████| 49 kB 6.2 MB/s \n",
            "\u001b[?25hRequirement already satisfied: PrettyTable>=0.7.2 in /usr/local/lib/python3.7/dist-packages (from cliff->optuna) (3.3.0)\n",
            "Collecting cmd2>=1.0.0\n",
            "  Downloading cmd2-2.4.2-py3-none-any.whl (147 kB)\n",
            "\u001b[K     |████████████████████████████████| 147 kB 72.2 MB/s \n",
            "\u001b[?25hCollecting autopage>=0.4.0\n",
            "  Downloading autopage-0.5.1-py3-none-any.whl (29 kB)\n",
            "Collecting pbr!=2.1.0,>=2.0.0\n",
            "  Downloading pbr-5.10.0-py2.py3-none-any.whl (112 kB)\n",
            "\u001b[K     |████████████████████████████████| 112 kB 64.6 MB/s \n",
            "\u001b[?25hCollecting pyperclip>=1.6\n",
            "  Downloading pyperclip-1.8.2.tar.gz (20 kB)\n",
            "Requirement already satisfied: wcwidth>=0.1.7 in /usr/local/lib/python3.7/dist-packages (from cmd2>=1.0.0->cliff->optuna) (0.2.5)\n",
            "Requirement already satisfied: typing-extensions in /usr/local/lib/python3.7/dist-packages (from cmd2>=1.0.0->cliff->optuna) (4.1.1)\n",
            "Requirement already satisfied: attrs>=16.3.0 in /usr/local/lib/python3.7/dist-packages (from cmd2>=1.0.0->cliff->optuna) (22.1.0)\n",
            "Requirement already satisfied: zipp>=0.5 in /usr/local/lib/python3.7/dist-packages (from importlib-metadata->sqlalchemy>=1.1.0->optuna) (3.8.1)\n",
            "Requirement already satisfied: MarkupSafe>=0.9.2 in /usr/local/lib/python3.7/dist-packages (from Mako->alembic->optuna) (2.0.1)\n",
            "Building wheels for collected packages: pyperclip\n",
            "  Building wheel for pyperclip (setup.py) ... \u001b[?25l\u001b[?25hdone\n",
            "  Created wheel for pyperclip: filename=pyperclip-1.8.2-py3-none-any.whl size=11137 sha256=31954e2c7568f27768cc19fb4e647f3f94d2811b114d6cf9323f0d89137cb676\n",
            "  Stored in directory: /root/.cache/pip/wheels/9f/18/84/8f69f8b08169c7bae2dde6bd7daf0c19fca8c8e500ee620a28\n",
            "Successfully built pyperclip\n",
            "Installing collected packages: pyperclip, pbr, stevedore, Mako, cmd2, autopage, colorlog, cmaes, cliff, alembic, optuna\n",
            "Successfully installed Mako-1.2.1 alembic-1.8.1 autopage-0.5.1 cliff-3.10.1 cmaes-0.8.2 cmd2-2.4.2 colorlog-6.6.0 optuna-2.10.1 pbr-5.10.0 pyperclip-1.8.2 stevedore-3.5.0\n"
          ]
        }
      ],
      "source": [
        "import pandas as pd\n",
        "\n",
        "import sklearn.model_selection\n",
        "\n",
        "! pip install optuna\n",
        "import optuna"
      ]
    },
    {
      "cell_type": "code",
      "source": [
        "cdf=pd.read_csv(\"/ProcessedData.csv\")"
      ],
      "metadata": {
        "id": "OK8CCPmC8ycj"
      },
      "execution_count": 39,
      "outputs": []
    },
    {
      "cell_type": "code",
      "source": [
        "cdf.info()"
      ],
      "metadata": {
        "colab": {
          "base_uri": "https://localhost:8080/"
        },
        "id": "lskeTxScMg6f",
        "outputId": "dd4b88d6-c4ec-4ba9-e71d-123e6978da10"
      },
      "execution_count": 40,
      "outputs": [
        {
          "output_type": "stream",
          "name": "stdout",
          "text": [
            "<class 'pandas.core.frame.DataFrame'>\n",
            "RangeIndex: 12970 entries, 0 to 12969\n",
            "Data columns (total 20 columns):\n",
            " #   Column         Non-Null Count  Dtype  \n",
            "---  ------         --------------  -----  \n",
            " 0   Unnamed: 0     12970 non-null  int64  \n",
            " 1   HomePlanet     12970 non-null  object \n",
            " 2   CryoSleep      12970 non-null  int64  \n",
            " 3   Destination    12970 non-null  object \n",
            " 4   Age            12970 non-null  float64\n",
            " 5   VIP            12970 non-null  int64  \n",
            " 6   RoomService    12970 non-null  float64\n",
            " 7   FoodCourt      12970 non-null  float64\n",
            " 8   ShoppingMall   12970 non-null  float64\n",
            " 9   Spa            12970 non-null  float64\n",
            " 10  VRDeck         12970 non-null  float64\n",
            " 11  Name           12970 non-null  object \n",
            " 12  ind            12970 non-null  object \n",
            " 13  Group          12970 non-null  int64  \n",
            " 14  Deck           12970 non-null  object \n",
            " 15  Num            12970 non-null  int64  \n",
            " 16  Side           12970 non-null  object \n",
            " 17  Minor          12970 non-null  int64  \n",
            " 18  Total_Expense  12970 non-null  float64\n",
            " 19  Expenditure    12970 non-null  int64  \n",
            "dtypes: float64(7), int64(7), object(6)\n",
            "memory usage: 2.0+ MB\n"
          ]
        }
      ]
    },
    {
      "cell_type": "code",
      "source": [
        "cdf.drop(columns=['Unnamed: 0','Name'], axis=1, inplace=True)"
      ],
      "metadata": {
        "id": "69-e-Gj68yib"
      },
      "execution_count": 41,
      "outputs": []
    },
    {
      "cell_type": "code",
      "source": [
        "train, test = cdf[cdf[\"ind\"].eq(\"train\")], cdf[cdf[\"ind\"].eq(\"test\")]"
      ],
      "metadata": {
        "id": "zyid6b0h8ylC"
      },
      "execution_count": 42,
      "outputs": []
    },
    {
      "cell_type": "code",
      "source": [
        "train[\"Transported\"]=traindf[\"Transported\"].astype(int)"
      ],
      "metadata": {
        "colab": {
          "base_uri": "https://localhost:8080/"
        },
        "id": "MWLgT-qFMzd8",
        "outputId": "62e80b18-a2de-49eb-fa3c-70e8c116d16b"
      },
      "execution_count": 46,
      "outputs": [
        {
          "output_type": "stream",
          "name": "stderr",
          "text": [
            "/usr/local/lib/python3.7/dist-packages/ipykernel_launcher.py:1: SettingWithCopyWarning: \n",
            "A value is trying to be set on a copy of a slice from a DataFrame.\n",
            "Try using .loc[row_indexer,col_indexer] = value instead\n",
            "\n",
            "See the caveats in the documentation: https://pandas.pydata.org/pandas-docs/stable/user_guide/indexing.html#returning-a-view-versus-a-copy\n",
            "  \"\"\"Entry point for launching an IPython kernel.\n"
          ]
        }
      ]
    },
    {
      "cell_type": "code",
      "source": [
        "train.info()"
      ],
      "metadata": {
        "colab": {
          "base_uri": "https://localhost:8080/"
        },
        "id": "dfk1foKQBIuk",
        "outputId": "26f4511a-6b0b-412b-a956-228f9e3e2e49"
      },
      "execution_count": 47,
      "outputs": [
        {
          "output_type": "stream",
          "name": "stdout",
          "text": [
            "<class 'pandas.core.frame.DataFrame'>\n",
            "Int64Index: 8693 entries, 0 to 8692\n",
            "Data columns (total 19 columns):\n",
            " #   Column         Non-Null Count  Dtype  \n",
            "---  ------         --------------  -----  \n",
            " 0   HomePlanet     8693 non-null   object \n",
            " 1   CryoSleep      8693 non-null   int64  \n",
            " 2   Destination    8693 non-null   object \n",
            " 3   Age            8693 non-null   float64\n",
            " 4   VIP            8693 non-null   int64  \n",
            " 5   RoomService    8693 non-null   float64\n",
            " 6   FoodCourt      8693 non-null   float64\n",
            " 7   ShoppingMall   8693 non-null   float64\n",
            " 8   Spa            8693 non-null   float64\n",
            " 9   VRDeck         8693 non-null   float64\n",
            " 10  ind            8693 non-null   object \n",
            " 11  Group          8693 non-null   int64  \n",
            " 12  Deck           8693 non-null   object \n",
            " 13  Num            8693 non-null   int64  \n",
            " 14  Side           8693 non-null   object \n",
            " 15  Minor          8693 non-null   int64  \n",
            " 16  Total_Expense  8693 non-null   float64\n",
            " 17  Expenditure    8693 non-null   int64  \n",
            " 18  Transported    8693 non-null   int64  \n",
            "dtypes: float64(7), int64(7), object(5)\n",
            "memory usage: 1.3+ MB\n"
          ]
        }
      ]
    },
    {
      "cell_type": "code",
      "source": [
        "train.drop([\"ind\"], axis=1, inplace=True)\n",
        "test.drop([\"ind\"], axis=1, inplace=True)"
      ],
      "metadata": {
        "colab": {
          "base_uri": "https://localhost:8080/"
        },
        "id": "OIB6jrt-CkBK",
        "outputId": "17340bc8-531e-4cbf-c488-da634549197d"
      },
      "execution_count": 48,
      "outputs": [
        {
          "output_type": "stream",
          "name": "stderr",
          "text": [
            "/usr/local/lib/python3.7/dist-packages/pandas/core/frame.py:4913: SettingWithCopyWarning: \n",
            "A value is trying to be set on a copy of a slice from a DataFrame\n",
            "\n",
            "See the caveats in the documentation: https://pandas.pydata.org/pandas-docs/stable/user_guide/indexing.html#returning-a-view-versus-a-copy\n",
            "  errors=errors,\n"
          ]
        }
      ]
    },
    {
      "cell_type": "markdown",
      "source": [
        "**Label Encoding:**"
      ],
      "metadata": {
        "id": "4adt9kykJ3Dw"
      }
    },
    {
      "cell_type": "code",
      "source": [
        "train=pd.get_dummies(train)\n",
        "test=pd.get_dummies(test)"
      ],
      "metadata": {
        "id": "FUoR5K6FMW5z"
      },
      "execution_count": 51,
      "outputs": []
    },
    {
      "cell_type": "code",
      "source": [
        "train.info()"
      ],
      "metadata": {
        "colab": {
          "base_uri": "https://localhost:8080/"
        },
        "id": "UWIUV6IaN0JL",
        "outputId": "f60016c1-6120-43f1-b903-3b6f49d04320"
      },
      "execution_count": 52,
      "outputs": [
        {
          "output_type": "stream",
          "name": "stdout",
          "text": [
            "<class 'pandas.core.frame.DataFrame'>\n",
            "Int64Index: 8693 entries, 0 to 8692\n",
            "Data columns (total 30 columns):\n",
            " #   Column                     Non-Null Count  Dtype  \n",
            "---  ------                     --------------  -----  \n",
            " 0   CryoSleep                  8693 non-null   int64  \n",
            " 1   Age                        8693 non-null   float64\n",
            " 2   VIP                        8693 non-null   int64  \n",
            " 3   RoomService                8693 non-null   float64\n",
            " 4   FoodCourt                  8693 non-null   float64\n",
            " 5   ShoppingMall               8693 non-null   float64\n",
            " 6   Spa                        8693 non-null   float64\n",
            " 7   VRDeck                     8693 non-null   float64\n",
            " 8   Group                      8693 non-null   int64  \n",
            " 9   Num                        8693 non-null   int64  \n",
            " 10  Minor                      8693 non-null   int64  \n",
            " 11  Total_Expense              8693 non-null   float64\n",
            " 12  Expenditure                8693 non-null   int64  \n",
            " 13  Transported                8693 non-null   int64  \n",
            " 14  HomePlanet_Earth           8693 non-null   uint8  \n",
            " 15  HomePlanet_Europa          8693 non-null   uint8  \n",
            " 16  HomePlanet_Mars            8693 non-null   uint8  \n",
            " 17  Destination_55 Cancri e    8693 non-null   uint8  \n",
            " 18  Destination_PSO J318.5-22  8693 non-null   uint8  \n",
            " 19  Destination_TRAPPIST-1e    8693 non-null   uint8  \n",
            " 20  Deck_A                     8693 non-null   uint8  \n",
            " 21  Deck_B                     8693 non-null   uint8  \n",
            " 22  Deck_C                     8693 non-null   uint8  \n",
            " 23  Deck_D                     8693 non-null   uint8  \n",
            " 24  Deck_E                     8693 non-null   uint8  \n",
            " 25  Deck_F                     8693 non-null   uint8  \n",
            " 26  Deck_G                     8693 non-null   uint8  \n",
            " 27  Deck_T                     8693 non-null   uint8  \n",
            " 28  Side_P                     8693 non-null   uint8  \n",
            " 29  Side_S                     8693 non-null   uint8  \n",
            "dtypes: float64(7), int64(7), uint8(16)\n",
            "memory usage: 1.1 MB\n"
          ]
        }
      ]
    },
    {
      "cell_type": "markdown",
      "source": [
        "**SPLIT:**"
      ],
      "metadata": {
        "id": "WMWE8vOjBwuk"
      }
    },
    {
      "cell_type": "code",
      "source": [
        "from sklearn.model_selection import train_test_split"
      ],
      "metadata": {
        "id": "UHBDZoqKBwQ9"
      },
      "execution_count": 53,
      "outputs": []
    },
    {
      "cell_type": "code",
      "source": [
        "x=train.drop([\"Transported\"], axis=1)\n",
        "y=train[\"Transported\"]\n",
        "y=y.values.reshape(-1, 1)\n",
        "print(x.shape, y.shape)"
      ],
      "metadata": {
        "colab": {
          "base_uri": "https://localhost:8080/"
        },
        "id": "tIaw9O3-BI2A",
        "outputId": "02058d7d-5355-4161-b538-09884c6b53d0"
      },
      "execution_count": 59,
      "outputs": [
        {
          "output_type": "stream",
          "name": "stdout",
          "text": [
            "(8693, 29) (8693, 1)\n"
          ]
        }
      ]
    },
    {
      "cell_type": "code",
      "source": [
        "x_train, x_test, y_train, y_test=train_test_split(x, y, shuffle=True, test_size=0.2, random_state=42)"
      ],
      "metadata": {
        "id": "YrA-gr09BI9B"
      },
      "execution_count": 60,
      "outputs": []
    },
    {
      "cell_type": "markdown",
      "source": [
        "**TRAINING:**"
      ],
      "metadata": {
        "id": "oq5K5_5pEQZ6"
      }
    },
    {
      "cell_type": "code",
      "source": [
        "from sklearn.ensemble import AdaBoostClassifier, GradientBoostingClassifier\n",
        "\n",
        "import xgboost as xgb\n",
        "\n",
        "from sklearn.metrics import accuracy_score"
      ],
      "metadata": {
        "id": "j8n9ioyzDwCq"
      },
      "execution_count": 32,
      "outputs": []
    },
    {
      "cell_type": "code",
      "source": [
        "ABC=AdaBoostClassifier(n_estimators=100)\n",
        "GB=GradientBoostingClassifier(n_estimators=100)\n",
        "XGB=xgb.XGBClassifier()"
      ],
      "metadata": {
        "id": "tTHqMZI3DwMa"
      },
      "execution_count": 63,
      "outputs": []
    },
    {
      "cell_type": "markdown",
      "source": [
        "**Ada Boost:**"
      ],
      "metadata": {
        "id": "t46ffeEOQF_A"
      }
    },
    {
      "cell_type": "code",
      "source": [
        "abcmodel=ABC.fit(x_train, y_train)\n",
        "y_pred=abcmodel.predict(x_test)\n",
        "\n",
        "print(\"Accuracy: \",accuracy_score(y_test, y_pred))"
      ],
      "metadata": {
        "colab": {
          "base_uri": "https://localhost:8080/"
        },
        "id": "8j1LWGyVDwVq",
        "outputId": "ab5217b9-035f-420c-b26b-79f74298ff24"
      },
      "execution_count": 64,
      "outputs": [
        {
          "output_type": "stream",
          "name": "stderr",
          "text": [
            "/usr/local/lib/python3.7/dist-packages/sklearn/utils/validation.py:993: DataConversionWarning: A column-vector y was passed when a 1d array was expected. Please change the shape of y to (n_samples, ), for example using ravel().\n",
            "  y = column_or_1d(y, warn=True)\n"
          ]
        },
        {
          "output_type": "stream",
          "name": "stdout",
          "text": [
            "Accuracy:  0.7889591719378953\n"
          ]
        }
      ]
    },
    {
      "cell_type": "markdown",
      "source": [
        "**Gradient Boosting:**"
      ],
      "metadata": {
        "id": "kYmjf_bLQKjZ"
      }
    },
    {
      "cell_type": "code",
      "source": [
        "gbmodel=GB.fit(x_train, y_train)\n",
        "y_pred=gbmodel.predict(x_test)\n",
        "\n",
        "print(\"Accuracy:\",accuracy_score(y_test,y_pred) )"
      ],
      "metadata": {
        "colab": {
          "base_uri": "https://localhost:8080/"
        },
        "id": "f7RA0fLcDwfY",
        "outputId": "8e927a96-719f-40bc-df8f-629e68614906"
      },
      "execution_count": 65,
      "outputs": [
        {
          "output_type": "stream",
          "name": "stderr",
          "text": [
            "/usr/local/lib/python3.7/dist-packages/sklearn/ensemble/_gb.py:494: DataConversionWarning: A column-vector y was passed when a 1d array was expected. Please change the shape of y to (n_samples, ), for example using ravel().\n",
            "  y = column_or_1d(y, warn=True)\n"
          ]
        },
        {
          "output_type": "stream",
          "name": "stdout",
          "text": [
            "Accuracy: 0.7987349051178838\n"
          ]
        }
      ]
    },
    {
      "cell_type": "markdown",
      "source": [
        "**XGBoost:**"
      ],
      "metadata": {
        "id": "euIXh4BXQ30Y"
      }
    },
    {
      "cell_type": "code",
      "source": [
        "eval_set=[(x_train,y_train),(x_test,y_test)]\n",
        "eval_metric=[\"auc\",\"error\"]\n",
        "\n",
        "xgbmodel=XGB.fit(x_train, y_train.ravel(), eval_metric=eval_metric,eval_set=eval_set, verbose=True)"
      ],
      "metadata": {
        "colab": {
          "base_uri": "https://localhost:8080/"
        },
        "id": "XnZ73M-2Q3ab",
        "outputId": "0dbd35b3-6ac2-4199-8728-9be1a4d5a3ce"
      },
      "execution_count": 69,
      "outputs": [
        {
          "output_type": "stream",
          "name": "stdout",
          "text": [
            "[0]\tvalidation_0-auc:0.837251\tvalidation_0-error:0.237849\tvalidation_1-auc:0.82748\tvalidation_1-error:0.258194\n",
            "[1]\tvalidation_0-auc:0.845589\tvalidation_0-error:0.232672\tvalidation_1-auc:0.834404\tvalidation_1-error:0.250144\n",
            "[2]\tvalidation_0-auc:0.851605\tvalidation_0-error:0.23224\tvalidation_1-auc:0.841966\tvalidation_1-error:0.250719\n",
            "[3]\tvalidation_0-auc:0.853529\tvalidation_0-error:0.228789\tvalidation_1-auc:0.84166\tvalidation_1-error:0.248994\n",
            "[4]\tvalidation_0-auc:0.855669\tvalidation_0-error:0.228645\tvalidation_1-auc:0.843884\tvalidation_1-error:0.248994\n",
            "[5]\tvalidation_0-auc:0.857004\tvalidation_0-error:0.228645\tvalidation_1-auc:0.844092\tvalidation_1-error:0.248419\n",
            "[6]\tvalidation_0-auc:0.862237\tvalidation_0-error:0.214121\tvalidation_1-auc:0.850315\tvalidation_1-error:0.232892\n",
            "[7]\tvalidation_0-auc:0.863355\tvalidation_0-error:0.213834\tvalidation_1-auc:0.851925\tvalidation_1-error:0.232892\n",
            "[8]\tvalidation_0-auc:0.867984\tvalidation_0-error:0.227495\tvalidation_1-auc:0.856194\tvalidation_1-error:0.237493\n",
            "[9]\tvalidation_0-auc:0.86702\tvalidation_0-error:0.209376\tvalidation_1-auc:0.855628\tvalidation_1-error:0.230592\n",
            "[10]\tvalidation_0-auc:0.866694\tvalidation_0-error:0.20952\tvalidation_1-auc:0.856071\tvalidation_1-error:0.226567\n",
            "[11]\tvalidation_0-auc:0.868733\tvalidation_0-error:0.227064\tvalidation_1-auc:0.856436\tvalidation_1-error:0.236918\n",
            "[12]\tvalidation_0-auc:0.869374\tvalidation_0-error:0.208513\tvalidation_1-auc:0.85645\tvalidation_1-error:0.227142\n",
            "[13]\tvalidation_0-auc:0.870627\tvalidation_0-error:0.208513\tvalidation_1-auc:0.85814\tvalidation_1-error:0.226567\n",
            "[14]\tvalidation_0-auc:0.870633\tvalidation_0-error:0.208225\tvalidation_1-auc:0.85835\tvalidation_1-error:0.227142\n",
            "[15]\tvalidation_0-auc:0.871769\tvalidation_0-error:0.202761\tvalidation_1-auc:0.858736\tvalidation_1-error:0.222542\n",
            "[16]\tvalidation_0-auc:0.872035\tvalidation_0-error:0.202761\tvalidation_1-auc:0.859103\tvalidation_1-error:0.225417\n",
            "[17]\tvalidation_0-auc:0.8738\tvalidation_0-error:0.203049\tvalidation_1-auc:0.860804\tvalidation_1-error:0.224267\n",
            "[18]\tvalidation_0-auc:0.874565\tvalidation_0-error:0.201898\tvalidation_1-auc:0.861423\tvalidation_1-error:0.220817\n",
            "[19]\tvalidation_0-auc:0.876462\tvalidation_0-error:0.201179\tvalidation_1-auc:0.863393\tvalidation_1-error:0.221967\n",
            "[20]\tvalidation_0-auc:0.878279\tvalidation_0-error:0.200316\tvalidation_1-auc:0.864939\tvalidation_1-error:0.221967\n",
            "[21]\tvalidation_0-auc:0.879917\tvalidation_0-error:0.200892\tvalidation_1-auc:0.866087\tvalidation_1-error:0.222542\n",
            "[22]\tvalidation_0-auc:0.882287\tvalidation_0-error:0.199454\tvalidation_1-auc:0.867709\tvalidation_1-error:0.220242\n",
            "[23]\tvalidation_0-auc:0.883285\tvalidation_0-error:0.199741\tvalidation_1-auc:0.868389\tvalidation_1-error:0.219091\n",
            "[24]\tvalidation_0-auc:0.886211\tvalidation_0-error:0.197728\tvalidation_1-auc:0.871611\tvalidation_1-error:0.217366\n",
            "[25]\tvalidation_0-auc:0.887162\tvalidation_0-error:0.197153\tvalidation_1-auc:0.872216\tvalidation_1-error:0.219666\n",
            "[26]\tvalidation_0-auc:0.887634\tvalidation_0-error:0.197153\tvalidation_1-auc:0.872517\tvalidation_1-error:0.218516\n",
            "[27]\tvalidation_0-auc:0.888392\tvalidation_0-error:0.196721\tvalidation_1-auc:0.872564\tvalidation_1-error:0.219091\n",
            "[28]\tvalidation_0-auc:0.890349\tvalidation_0-error:0.195139\tvalidation_1-auc:0.874166\tvalidation_1-error:0.217366\n",
            "[29]\tvalidation_0-auc:0.89073\tvalidation_0-error:0.194277\tvalidation_1-auc:0.874116\tvalidation_1-error:0.217941\n",
            "[30]\tvalidation_0-auc:0.891696\tvalidation_0-error:0.193989\tvalidation_1-auc:0.875033\tvalidation_1-error:0.217366\n",
            "[31]\tvalidation_0-auc:0.893765\tvalidation_0-error:0.193126\tvalidation_1-auc:0.877218\tvalidation_1-error:0.217366\n",
            "[32]\tvalidation_0-auc:0.894096\tvalidation_0-error:0.192839\tvalidation_1-auc:0.877444\tvalidation_1-error:0.216216\n",
            "[33]\tvalidation_0-auc:0.894177\tvalidation_0-error:0.191544\tvalidation_1-auc:0.876418\tvalidation_1-error:0.216216\n",
            "[34]\tvalidation_0-auc:0.896106\tvalidation_0-error:0.191257\tvalidation_1-auc:0.878454\tvalidation_1-error:0.215066\n",
            "[35]\tvalidation_0-auc:0.896186\tvalidation_0-error:0.191688\tvalidation_1-auc:0.877715\tvalidation_1-error:0.215641\n",
            "[36]\tvalidation_0-auc:0.896871\tvalidation_0-error:0.191257\tvalidation_1-auc:0.878213\tvalidation_1-error:0.216216\n",
            "[37]\tvalidation_0-auc:0.897485\tvalidation_0-error:0.192263\tvalidation_1-auc:0.878546\tvalidation_1-error:0.215641\n",
            "[38]\tvalidation_0-auc:0.898479\tvalidation_0-error:0.191113\tvalidation_1-auc:0.879506\tvalidation_1-error:0.213916\n",
            "[39]\tvalidation_0-auc:0.898687\tvalidation_0-error:0.190825\tvalidation_1-auc:0.879514\tvalidation_1-error:0.213916\n",
            "[40]\tvalidation_0-auc:0.899155\tvalidation_0-error:0.191113\tvalidation_1-auc:0.879729\tvalidation_1-error:0.215641\n",
            "[41]\tvalidation_0-auc:0.900133\tvalidation_0-error:0.190682\tvalidation_1-auc:0.880975\tvalidation_1-error:0.213341\n",
            "[42]\tvalidation_0-auc:0.900175\tvalidation_0-error:0.190106\tvalidation_1-auc:0.880533\tvalidation_1-error:0.212191\n",
            "[43]\tvalidation_0-auc:0.90054\tvalidation_0-error:0.190825\tvalidation_1-auc:0.88086\tvalidation_1-error:0.211616\n",
            "[44]\tvalidation_0-auc:0.901222\tvalidation_0-error:0.190106\tvalidation_1-auc:0.881228\tvalidation_1-error:0.210466\n",
            "[45]\tvalidation_0-auc:0.901578\tvalidation_0-error:0.189819\tvalidation_1-auc:0.881355\tvalidation_1-error:0.210466\n",
            "[46]\tvalidation_0-auc:0.902506\tvalidation_0-error:0.188525\tvalidation_1-auc:0.882169\tvalidation_1-error:0.211041\n",
            "[47]\tvalidation_0-auc:0.902946\tvalidation_0-error:0.187662\tvalidation_1-auc:0.88206\tvalidation_1-error:0.211041\n",
            "[48]\tvalidation_0-auc:0.903221\tvalidation_0-error:0.187518\tvalidation_1-auc:0.882286\tvalidation_1-error:0.210466\n",
            "[49]\tvalidation_0-auc:0.903495\tvalidation_0-error:0.187662\tvalidation_1-auc:0.882393\tvalidation_1-error:0.208741\n",
            "[50]\tvalidation_0-auc:0.903674\tvalidation_0-error:0.187518\tvalidation_1-auc:0.882515\tvalidation_1-error:0.208741\n",
            "[51]\tvalidation_0-auc:0.904277\tvalidation_0-error:0.186511\tvalidation_1-auc:0.883169\tvalidation_1-error:0.209316\n",
            "[52]\tvalidation_0-auc:0.90462\tvalidation_0-error:0.187087\tvalidation_1-auc:0.882969\tvalidation_1-error:0.209316\n",
            "[53]\tvalidation_0-auc:0.905125\tvalidation_0-error:0.187518\tvalidation_1-auc:0.883311\tvalidation_1-error:0.209891\n",
            "[54]\tvalidation_0-auc:0.90528\tvalidation_0-error:0.187662\tvalidation_1-auc:0.883344\tvalidation_1-error:0.208166\n",
            "[55]\tvalidation_0-auc:0.905795\tvalidation_0-error:0.18608\tvalidation_1-auc:0.883885\tvalidation_1-error:0.208741\n",
            "[56]\tvalidation_0-auc:0.906293\tvalidation_0-error:0.185792\tvalidation_1-auc:0.884326\tvalidation_1-error:0.207591\n",
            "[57]\tvalidation_0-auc:0.906471\tvalidation_0-error:0.185649\tvalidation_1-auc:0.88455\tvalidation_1-error:0.208166\n",
            "[58]\tvalidation_0-auc:0.906874\tvalidation_0-error:0.186511\tvalidation_1-auc:0.884734\tvalidation_1-error:0.208741\n",
            "[59]\tvalidation_0-auc:0.907117\tvalidation_0-error:0.186799\tvalidation_1-auc:0.884978\tvalidation_1-error:0.208741\n",
            "[60]\tvalidation_0-auc:0.907255\tvalidation_0-error:0.186655\tvalidation_1-auc:0.885069\tvalidation_1-error:0.208741\n",
            "[61]\tvalidation_0-auc:0.907763\tvalidation_0-error:0.18493\tvalidation_1-auc:0.885689\tvalidation_1-error:0.210466\n",
            "[62]\tvalidation_0-auc:0.908187\tvalidation_0-error:0.184642\tvalidation_1-auc:0.88608\tvalidation_1-error:0.207591\n",
            "[63]\tvalidation_0-auc:0.908452\tvalidation_0-error:0.18493\tvalidation_1-auc:0.886038\tvalidation_1-error:0.209316\n",
            "[64]\tvalidation_0-auc:0.908663\tvalidation_0-error:0.183923\tvalidation_1-auc:0.886127\tvalidation_1-error:0.210466\n",
            "[65]\tvalidation_0-auc:0.908738\tvalidation_0-error:0.184498\tvalidation_1-auc:0.886041\tvalidation_1-error:0.20644\n",
            "[66]\tvalidation_0-auc:0.908822\tvalidation_0-error:0.183779\tvalidation_1-auc:0.886049\tvalidation_1-error:0.20644\n",
            "[67]\tvalidation_0-auc:0.909121\tvalidation_0-error:0.183923\tvalidation_1-auc:0.886129\tvalidation_1-error:0.209891\n",
            "[68]\tvalidation_0-auc:0.909184\tvalidation_0-error:0.184067\tvalidation_1-auc:0.886101\tvalidation_1-error:0.207591\n",
            "[69]\tvalidation_0-auc:0.909308\tvalidation_0-error:0.183635\tvalidation_1-auc:0.886351\tvalidation_1-error:0.208166\n",
            "[70]\tvalidation_0-auc:0.90944\tvalidation_0-error:0.18306\tvalidation_1-auc:0.886544\tvalidation_1-error:0.208741\n",
            "[71]\tvalidation_0-auc:0.909673\tvalidation_0-error:0.183779\tvalidation_1-auc:0.886483\tvalidation_1-error:0.208166\n",
            "[72]\tvalidation_0-auc:0.909769\tvalidation_0-error:0.183492\tvalidation_1-auc:0.886601\tvalidation_1-error:0.208741\n",
            "[73]\tvalidation_0-auc:0.909843\tvalidation_0-error:0.183348\tvalidation_1-auc:0.886601\tvalidation_1-error:0.208166\n",
            "[74]\tvalidation_0-auc:0.910193\tvalidation_0-error:0.183492\tvalidation_1-auc:0.887501\tvalidation_1-error:0.208741\n",
            "[75]\tvalidation_0-auc:0.910363\tvalidation_0-error:0.183492\tvalidation_1-auc:0.887534\tvalidation_1-error:0.208741\n",
            "[76]\tvalidation_0-auc:0.910506\tvalidation_0-error:0.183779\tvalidation_1-auc:0.8876\tvalidation_1-error:0.209316\n",
            "[77]\tvalidation_0-auc:0.910805\tvalidation_0-error:0.183492\tvalidation_1-auc:0.887863\tvalidation_1-error:0.208741\n",
            "[78]\tvalidation_0-auc:0.910896\tvalidation_0-error:0.183779\tvalidation_1-auc:0.8878\tvalidation_1-error:0.209316\n",
            "[79]\tvalidation_0-auc:0.910993\tvalidation_0-error:0.183779\tvalidation_1-auc:0.887968\tvalidation_1-error:0.208741\n",
            "[80]\tvalidation_0-auc:0.911384\tvalidation_0-error:0.183635\tvalidation_1-auc:0.888068\tvalidation_1-error:0.209316\n",
            "[81]\tvalidation_0-auc:0.91158\tvalidation_0-error:0.183779\tvalidation_1-auc:0.888248\tvalidation_1-error:0.209316\n",
            "[82]\tvalidation_0-auc:0.911674\tvalidation_0-error:0.183923\tvalidation_1-auc:0.888234\tvalidation_1-error:0.209316\n",
            "[83]\tvalidation_0-auc:0.911842\tvalidation_0-error:0.183492\tvalidation_1-auc:0.888417\tvalidation_1-error:0.209316\n",
            "[84]\tvalidation_0-auc:0.912233\tvalidation_0-error:0.182916\tvalidation_1-auc:0.888701\tvalidation_1-error:0.208741\n",
            "[85]\tvalidation_0-auc:0.912503\tvalidation_0-error:0.181334\tvalidation_1-auc:0.888604\tvalidation_1-error:0.207591\n",
            "[86]\tvalidation_0-auc:0.912736\tvalidation_0-error:0.181478\tvalidation_1-auc:0.888727\tvalidation_1-error:0.20644\n",
            "[87]\tvalidation_0-auc:0.913065\tvalidation_0-error:0.179609\tvalidation_1-auc:0.888988\tvalidation_1-error:0.20644\n",
            "[88]\tvalidation_0-auc:0.91318\tvalidation_0-error:0.179321\tvalidation_1-auc:0.889077\tvalidation_1-error:0.205865\n",
            "[89]\tvalidation_0-auc:0.913506\tvalidation_0-error:0.178746\tvalidation_1-auc:0.888915\tvalidation_1-error:0.205865\n",
            "[90]\tvalidation_0-auc:0.913612\tvalidation_0-error:0.178746\tvalidation_1-auc:0.889006\tvalidation_1-error:0.20529\n",
            "[91]\tvalidation_0-auc:0.913672\tvalidation_0-error:0.178746\tvalidation_1-auc:0.888987\tvalidation_1-error:0.20529\n",
            "[92]\tvalidation_0-auc:0.914221\tvalidation_0-error:0.178315\tvalidation_1-auc:0.889798\tvalidation_1-error:0.20644\n",
            "[93]\tvalidation_0-auc:0.91439\tvalidation_0-error:0.177883\tvalidation_1-auc:0.889705\tvalidation_1-error:0.207591\n",
            "[94]\tvalidation_0-auc:0.914471\tvalidation_0-error:0.177883\tvalidation_1-auc:0.889678\tvalidation_1-error:0.207591\n",
            "[95]\tvalidation_0-auc:0.914784\tvalidation_0-error:0.177452\tvalidation_1-auc:0.889867\tvalidation_1-error:0.205865\n",
            "[96]\tvalidation_0-auc:0.914935\tvalidation_0-error:0.177883\tvalidation_1-auc:0.890023\tvalidation_1-error:0.20529\n",
            "[97]\tvalidation_0-auc:0.914967\tvalidation_0-error:0.177883\tvalidation_1-auc:0.88993\tvalidation_1-error:0.204715\n",
            "[98]\tvalidation_0-auc:0.915278\tvalidation_0-error:0.177596\tvalidation_1-auc:0.889998\tvalidation_1-error:0.203565\n",
            "[99]\tvalidation_0-auc:0.91535\tvalidation_0-error:0.177596\tvalidation_1-auc:0.889994\tvalidation_1-error:0.20414\n"
          ]
        }
      ]
    },
    {
      "cell_type": "code",
      "source": [
        "print(\"Accuracy: \", 1.00-0.20414)"
      ],
      "metadata": {
        "colab": {
          "base_uri": "https://localhost:8080/"
        },
        "id": "sSJVgoeKS2ZK",
        "outputId": "dbd15eaf-0542-4642-cdfb-1594a87c3ebf"
      },
      "execution_count": 74,
      "outputs": [
        {
          "output_type": "stream",
          "name": "stdout",
          "text": [
            "Accuracy:  0.79586\n"
          ]
        }
      ]
    }
  ]
}