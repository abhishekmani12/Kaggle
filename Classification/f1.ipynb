{
  "nbformat": 4,
  "nbformat_minor": 0,
  "metadata": {
    "colab": {
      "provenance": [],
      "authorship_tag": "ABX9TyOtrJUdfkDwwy+GZbZbeAv6",
      "include_colab_link": true
    },
    "kernelspec": {
      "name": "python3",
      "display_name": "Python 3"
    },
    "language_info": {
      "name": "python"
    }
  },
  "cells": [
    {
      "cell_type": "markdown",
      "metadata": {
        "id": "view-in-github",
        "colab_type": "text"
      },
      "source": [
        "<a href=\"https://colab.research.google.com/github/abhishekmani12/Kaggle/blob/main/Classification/f1.ipynb\" target=\"_parent\"><img src=\"https://colab.research.google.com/assets/colab-badge.svg\" alt=\"Open In Colab\"/></a>"
      ]
    },
    {
      "cell_type": "code",
      "execution_count": 1,
      "metadata": {
        "id": "M6xJUHFPGeo4"
      },
      "outputs": [],
      "source": [
        "from sklearn import metrics\n",
        "\n",
        "l1=[0,0,1,1,1,1,1,0,1,1]  #y_test/y_true\n",
        "l2=[0,0,0,0,1,1,1,1,1,1]  #y_pred"
      ]
    },
    {
      "cell_type": "markdown",
      "source": [
        "**Accuracy:**"
      ],
      "metadata": {
        "id": "9Cxrbnp5nrpI"
      }
    },
    {
      "cell_type": "code",
      "source": [
        "#code:\n",
        "\n",
        "\n",
        "def accuracy(y_true, y_pred):\n",
        "  ccount=0\n",
        "  for yt, yp in zip(y_true, y_pred):\n",
        "    if yt == yp:\n",
        "      ccount+=1\n",
        "\n",
        "  acc=ccount/len(y_true)\n",
        "  return acc  \n",
        "\n",
        "accuracy(l1,l2)    "
      ],
      "metadata": {
        "colab": {
          "base_uri": "https://localhost:8080/"
        },
        "id": "x_n_mBuamcno",
        "outputId": "dfcefddb-bba1-45f0-c7a9-df42536a59ee"
      },
      "execution_count": 5,
      "outputs": [
        {
          "output_type": "execute_result",
          "data": {
            "text/plain": [
              "0.7"
            ]
          },
          "metadata": {},
          "execution_count": 5
        }
      ]
    },
    {
      "cell_type": "code",
      "source": [
        "#sklearn.metrics:\n",
        "\n",
        "metrics.accuracy_score(l1,l2) #(y_test, y_pred)"
      ],
      "metadata": {
        "colab": {
          "base_uri": "https://localhost:8080/"
        },
        "id": "4FppOq_GnfUl",
        "outputId": "5f7d577a-a291-4f17-dbea-f4371c70b83f"
      },
      "execution_count": 6,
      "outputs": [
        {
          "output_type": "execute_result",
          "data": {
            "text/plain": [
              "0.7"
            ]
          },
          "metadata": {},
          "execution_count": 6
        }
      ]
    },
    {
      "cell_type": "markdown",
      "source": [
        "**True Positive:**\n",
        "\n",
        "Actual=1,\n",
        "Pred  =1"
      ],
      "metadata": {
        "id": "IXoFfnk-oBkn"
      }
    },
    {
      "cell_type": "code",
      "source": [
        "def tp(y_true, y_pred):\n",
        "\n",
        "  tp=0\n",
        "  for yt, yp in zip(y_true, y_pred):\n",
        "    if yt==1 and yp==1:\n",
        "      tp+=1\n",
        "  return tp\n",
        "\n",
        "tp(l1,l2)  "
      ],
      "metadata": {
        "colab": {
          "base_uri": "https://localhost:8080/"
        },
        "id": "Yzgotul_n_nE",
        "outputId": "0b40cd36-87b2-4663-c53a-c1463c56662f"
      },
      "execution_count": 7,
      "outputs": [
        {
          "output_type": "execute_result",
          "data": {
            "text/plain": [
              "5"
            ]
          },
          "metadata": {},
          "execution_count": 7
        }
      ]
    },
    {
      "cell_type": "markdown",
      "source": [
        "**True Negative:**\n",
        "\n",
        "Actual=0, Pred=0"
      ],
      "metadata": {
        "id": "GcUNakxUoVGl"
      }
    },
    {
      "cell_type": "code",
      "source": [
        "def tn(y_true, y_pred):\n",
        "  tn=0\n",
        "  for yt, yp in zip(y_true, y_pred):\n",
        "    if yt==0 and yp==0:\n",
        "      tn+=1\n",
        "  return tn\n",
        "\n",
        "tn(l1,l2)  "
      ],
      "metadata": {
        "colab": {
          "base_uri": "https://localhost:8080/"
        },
        "id": "jRRahc_roUMO",
        "outputId": "341134a4-22d4-48a9-bb39-032a22b03668"
      },
      "execution_count": 8,
      "outputs": [
        {
          "output_type": "execute_result",
          "data": {
            "text/plain": [
              "2"
            ]
          },
          "metadata": {},
          "execution_count": 8
        }
      ]
    },
    {
      "cell_type": "markdown",
      "source": [
        "**False Positive:**\n",
        "\n",
        "Actual=0,\n",
        "Pred=1\n"
      ],
      "metadata": {
        "id": "bb-Gc01AokCU"
      }
    },
    {
      "cell_type": "code",
      "source": [
        "def fp(y_true, y_pred):\n",
        "  fp=0\n",
        "\n",
        "  for yt, yp in zip(y_true, y_pred):\n",
        "    if yt==0 and yp==1:\n",
        "      fp+=1\n",
        "  return fp\n",
        "\n",
        "fp(l1,l2)  "
      ],
      "metadata": {
        "colab": {
          "base_uri": "https://localhost:8080/"
        },
        "id": "yKOZzlknojTZ",
        "outputId": "a2da08db-1165-4217-cd7b-77b86896bc41"
      },
      "execution_count": 9,
      "outputs": [
        {
          "output_type": "execute_result",
          "data": {
            "text/plain": [
              "1"
            ]
          },
          "metadata": {},
          "execution_count": 9
        }
      ]
    },
    {
      "cell_type": "markdown",
      "source": [
        "**False Negative:**\n",
        "\n",
        "Actual=1,\n",
        "Pred=0"
      ],
      "metadata": {
        "id": "R8hkIiTppKxQ"
      }
    },
    {
      "cell_type": "code",
      "source": [
        "def fn(y_true, y_pred):\n",
        "  fn=0\n",
        "\n",
        "  for yt, yp in zip(y_true, y_pred):\n",
        "    if yt==1 and yp==0:\n",
        "      fn+=1\n",
        "  return fn \n",
        "\n",
        "fn(l1,l2)   "
      ],
      "metadata": {
        "colab": {
          "base_uri": "https://localhost:8080/"
        },
        "id": "JpX9qoCSLbVQ",
        "outputId": "68b78cbf-fa21-4edc-9361-54206647971d"
      },
      "execution_count": 10,
      "outputs": [
        {
          "output_type": "execute_result",
          "data": {
            "text/plain": [
              "2"
            ]
          },
          "metadata": {},
          "execution_count": 10
        }
      ]
    },
    {
      "cell_type": "markdown",
      "source": [
        "**Accuracy_Score:**\n",
        "\n",
        "=(TP +TN)/(TP + TN + FP + FN)"
      ],
      "metadata": {
        "id": "TRoUZ4yYvOo9"
      }
    },
    {
      "cell_type": "code",
      "source": [
        "#for major skew\n",
        "def acc_score(y_true, y_pred):\n",
        "\n",
        "  l1=y_true\n",
        "  l2=y_pred\n",
        "  accscore=( tp(l1, l2) + tn(l1, l2) ) / ( tp(l1, l2) + tn(l1, l2) + fp(l1, l2) + fn(l1, l2))\n",
        "\n",
        "  return accscore\n",
        "\n",
        "acc_score(l1, l2)  "
      ],
      "metadata": {
        "colab": {
          "base_uri": "https://localhost:8080/"
        },
        "id": "oAndLSJjqaVw",
        "outputId": "41e1c784-da2c-4317-94b9-d937961556d9"
      },
      "execution_count": 11,
      "outputs": [
        {
          "output_type": "execute_result",
          "data": {
            "text/plain": [
              "0.7"
            ]
          },
          "metadata": {},
          "execution_count": 11
        }
      ]
    },
    {
      "cell_type": "markdown",
      "source": [
        "**Precision:**\n",
        "\n",
        "*   =tp / tp + fp\n",
        "\n",
        "*   High precision --> low false positives\n"
      ],
      "metadata": {
        "id": "UrW6Uq_Mwgm1"
      }
    },
    {
      "cell_type": "code",
      "source": [
        "def precision(y_true, y_pred):\n",
        "  l1=y_true\n",
        "  l2=y_pred\n",
        "\n",
        "  precision=tp(l1, l2) / ( tp(l1, l2) + fp(l1, l2) )\n",
        "\n",
        "  return precision\n",
        "\n",
        "precision(l1, l2)  "
      ],
      "metadata": {
        "colab": {
          "base_uri": "https://localhost:8080/"
        },
        "id": "Ep8or_lGw1Ek",
        "outputId": "ee3a72ab-a1f1-4750-bcae-4175a8d13eec"
      },
      "execution_count": 12,
      "outputs": [
        {
          "output_type": "execute_result",
          "data": {
            "text/plain": [
              "0.8333333333333334"
            ]
          },
          "metadata": {},
          "execution_count": 12
        }
      ]
    },
    {
      "cell_type": "markdown",
      "source": [
        "**Recall:**\n",
        "\n",
        "*   =tp / tp + fn\n",
        "\n",
        "*   High recall --> low number of false negatives\n",
        "\n",
        "*   Sensitivity / True Positve Rate (TPR)\n",
        "\n",
        "\n",
        "  \n",
        "\n"
      ],
      "metadata": {
        "id": "ssJLDAzoxUsH"
      }
    },
    {
      "cell_type": "code",
      "source": [
        "def recall(y_true, y_pred):\n",
        "  l1=y_true\n",
        "  l2=y_pred\n",
        "\n",
        "  recall=tp(l1, l2) / ( tp(l1, l2) + fn(l1, l2) )\n",
        "\n",
        "  return recall\n",
        "\n",
        "recall(l1, l2)  "
      ],
      "metadata": {
        "colab": {
          "base_uri": "https://localhost:8080/"
        },
        "id": "OvVRO1RUxUM2",
        "outputId": "595a7cf0-f2c5-43f7-ba33-074b0053c6d0"
      },
      "execution_count": 14,
      "outputs": [
        {
          "output_type": "execute_result",
          "data": {
            "text/plain": [
              "0.7142857142857143"
            ]
          },
          "metadata": {},
          "execution_count": 14
        }
      ]
    },
    {
      "cell_type": "markdown",
      "source": [
        "**F1 Score:**\n",
        "\n",
        "*   Combines precision and recall\n",
        "\n",
        "*   = 2PR / ( P + R )\n",
        "\n",
        "*   =2TP / ( 2TP + FP + FN )\n",
        "\n",
        "*   Useful for skewed datasets"
      ],
      "metadata": {
        "id": "8yB9o3Dq2XjC"
      }
    },
    {
      "cell_type": "code",
      "source": [
        "#code:\n",
        "\n",
        "def f1(y_true, y_pred):\n",
        "\n",
        "  l1=y_true\n",
        "  l2=y_pred\n",
        "\n",
        "  f1score= ( 2 * precision(l1, l2) * recall(l1, l2) ) / ( precision(l1, l2) + recall(l1, l2) )\n",
        "\n",
        "  return f1score\n",
        "\n",
        "f1(l1, l2)  "
      ],
      "metadata": {
        "colab": {
          "base_uri": "https://localhost:8080/"
        },
        "id": "JINdhA4m3Azx",
        "outputId": "7874d068-0c0b-4fb9-96ba-de994903483a"
      },
      "execution_count": 15,
      "outputs": [
        {
          "output_type": "execute_result",
          "data": {
            "text/plain": [
              "0.7692307692307692"
            ]
          },
          "metadata": {},
          "execution_count": 15
        }
      ]
    },
    {
      "cell_type": "code",
      "source": [
        "#sklearn.metrics:\n",
        "\n",
        "metrics.f1_score(l1, l2)"
      ],
      "metadata": {
        "colab": {
          "base_uri": "https://localhost:8080/"
        },
        "id": "pCiRKhgH3zWa",
        "outputId": "d6631613-2e47-4052-8e8d-256df95f9082"
      },
      "execution_count": 16,
      "outputs": [
        {
          "output_type": "execute_result",
          "data": {
            "text/plain": [
              "0.7692307692307692"
            ]
          },
          "metadata": {},
          "execution_count": 16
        }
      ]
    },
    {
      "cell_type": "markdown",
      "source": [
        "**True Positive Rate[TPR] / Recall:**"
      ],
      "metadata": {
        "id": "At3Rx4d161VI"
      }
    },
    {
      "cell_type": "code",
      "source": [
        "def tpr(y_true, y_pred):\n",
        "\n",
        "  return recall(y_true, y_pred)"
      ],
      "metadata": {
        "id": "jB6m6zum6-qN"
      },
      "execution_count": null,
      "outputs": []
    },
    {
      "cell_type": "markdown",
      "source": [
        "**False Postive Rate[FPR]:**\n",
        "\n",
        "*   =FP / ( TN + FP )"
      ],
      "metadata": {
        "id": "KERT3vIt7Toi"
      }
    },
    {
      "cell_type": "code",
      "source": [
        "def fpr(y_true, y_pred):\n",
        "\n",
        "  return fp(y_true, y_pred) / ( fp(y_true, y_pred) + tn(y_true, y_pred))\n",
        "\n",
        "\n",
        "# 1-FPR -- Specificity/True Negative Rate [TNR]"
      ],
      "metadata": {
        "id": "C9CI4Y_C6-tM"
      },
      "execution_count": null,
      "outputs": []
    }
  ]
}